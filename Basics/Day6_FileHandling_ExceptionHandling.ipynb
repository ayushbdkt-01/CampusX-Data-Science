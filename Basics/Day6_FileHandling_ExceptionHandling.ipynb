{
 "cells": [
  {
   "cell_type": "markdown",
   "id": "d09bc6ab-b53a-486c-82ba-60e1fad67f20",
   "metadata": {},
   "source": [
    "# File Handling"
   ]
  },
  {
   "cell_type": "code",
   "execution_count": 22,
   "id": "b2947bf2-a516-45a2-afeb-3c58c89e045c",
   "metadata": {},
   "outputs": [],
   "source": [
    "# 2 Types of Data\n",
    "# Text = Unicode Charaacters\n",
    "# Binary = Zero or Ones\n",
    "\n",
    "# File operations are opening,reading, writing, closing a file.\n",
    "# files understand all data types as text"
   ]
  },
  {
   "cell_type": "markdown",
   "id": "7f078a9a-ec3a-4c39-996e-dd69b725e508",
   "metadata": {},
   "source": [
    "# Writing Into Files"
   ]
  },
  {
   "cell_type": "code",
   "execution_count": 7,
   "id": "00a3366d-dfa3-436d-b3c9-b28b22ff8427",
   "metadata": {},
   "outputs": [],
   "source": [
    "# if file is not present\n",
    "f=open(\"data.txt\",'w')\n",
    "f.write(\"My name is Ayush Budhlakoti\")\n",
    "f.close()"
   ]
  },
  {
   "cell_type": "code",
   "execution_count": 8,
   "id": "bc5f9b9d-570f-482d-bf00-a48ef55c8f57",
   "metadata": {},
   "outputs": [],
   "source": [
    "# writing multiline strings in file\n",
    "f=open('data.txt','w')\n",
    "f.write(\"Hello\")\n",
    "f.write(\"\\nHow are you\")\n",
    "f.close()"
   ]
  },
  {
   "cell_type": "code",
   "execution_count": 10,
   "id": "3af2e982-27fd-45b2-a073-cd2356bb8885",
   "metadata": {},
   "outputs": [],
   "source": [
    "# if file is present\n",
    "f=open(\"data.txt\",'w')\n",
    "f.write(\"My name is Maksood\")\n",
    "f.close()"
   ]
  },
  {
   "cell_type": "code",
   "execution_count": 18,
   "id": "7974cd11-78b6-46b1-948d-21a25f046cbb",
   "metadata": {},
   "outputs": [],
   "source": [
    "# append mode\n",
    "f=open(\"data.txt\",'a')\n",
    "f.write(\"My name is Ayush Budhlakoti \\n\")\n",
    "f.close()"
   ]
  },
  {
   "cell_type": "code",
   "execution_count": 20,
   "id": "13e5c297-6066-477e-9485-8bafeacd5176",
   "metadata": {},
   "outputs": [],
   "source": [
    "# writing multiple lines into file\n",
    "l=[\"Hello\\n\",\"How are you?\\n\",\"I'm fine\\n\"]\n",
    "\n",
    "f=open('data.txt','w')\n",
    "f.writelines(l)\n",
    "f.close()"
   ]
  },
  {
   "cell_type": "markdown",
   "id": "850af145-e28f-4253-b11b-975bb76b5ada",
   "metadata": {},
   "source": [
    "# Reading from File"
   ]
  },
  {
   "cell_type": "code",
   "execution_count": 21,
   "id": "b44f424e-5133-4142-90c2-c1dbe77f07ad",
   "metadata": {},
   "outputs": [
    {
     "name": "stdout",
     "output_type": "stream",
     "text": [
      "Hello\n",
      "How are you?\n",
      "I'm fine\n",
      "\n"
     ]
    }
   ],
   "source": [
    "# reading from files\n",
    "f=open('data.txt','r')\n",
    "text=f.read()\n",
    "f.close()\n",
    "print(text)"
   ]
  },
  {
   "cell_type": "code",
   "execution_count": 23,
   "id": "4fe02eb5-03b2-4fae-b09b-555658b5e485",
   "metadata": {},
   "outputs": [
    {
     "name": "stdout",
     "output_type": "stream",
     "text": [
      "Hello\n",
      "How ar\n"
     ]
    }
   ],
   "source": [
    "# reading 'n' characters from file\n",
    "f=open('data.txt','r')\n",
    "text=f.read(12)\n",
    "f.close()\n",
    "print(text)"
   ]
  },
  {
   "cell_type": "code",
   "execution_count": 26,
   "id": "cd9d2026-a425-4cf7-9675-a0189468a9c8",
   "metadata": {},
   "outputs": [
    {
     "name": "stdout",
     "output_type": "stream",
     "text": [
      "Hello\n",
      "How are you?\n"
     ]
    }
   ],
   "source": [
    "# read line by line\n",
    "f=open('data.txt','r')\n",
    "\n",
    "text=f.readline()\n",
    "print(text,end='')\n",
    "text=f.readline()\n",
    "print(text,end='')\n",
    "\n",
    "f.close()"
   ]
  },
  {
   "cell_type": "code",
   "execution_count": 1,
   "id": "a7a8cda6-413a-4573-90e8-c9d8aafa03d2",
   "metadata": {},
   "outputs": [],
   "source": [
    "# reading all lines using readlines\n",
    "# f=open('data.txt','r')\n",
    "# while(f.readlines()!=\"\"):\n",
    "#     print(f.readline())\n",
    "# f.close()"
   ]
  },
  {
   "cell_type": "markdown",
   "id": "5c74f843-d40b-4753-b464-daef29286131",
   "metadata": {},
   "source": [
    "# Using Context Manager (with)"
   ]
  },
  {
   "cell_type": "code",
   "execution_count": 4,
   "id": "833ef913-8495-47b4-9185-81135eaf5f66",
   "metadata": {},
   "outputs": [],
   "source": [
    "# closing the  file will free up the resources\n",
    "# if not closed, then garbage collector will close it later automatically\n",
    "# 'with' automatically closes the file when usage is over"
   ]
  },
  {
   "cell_type": "code",
   "execution_count": 10,
   "id": "975d79cb-749c-4c64-9b91-12d8d7ef5a72",
   "metadata": {},
   "outputs": [
    {
     "name": "stdout",
     "output_type": "stream",
     "text": [
      "Learning Python\n"
     ]
    }
   ],
   "source": [
    "# no nedd to close the file when the use of file is over\n",
    "\n",
    "with open(\"data.txt\",'w') as f:\n",
    "    f.write(\"Learning Python\")\n",
    "    \n",
    "with open(\"data.txt\",'r') as f:\n",
    "    print(f.read())"
   ]
  },
  {
   "cell_type": "code",
   "execution_count": 11,
   "id": "5cb91f56-dd85-4939-9e00-720a8bbfbff9",
   "metadata": {},
   "outputs": [
    {
     "name": "stdout",
     "output_type": "stream",
     "text": [
      "Learning P\n",
      "ython\n"
     ]
    }
   ],
   "source": [
    "with open(\"data.txt\",'r') as f:\n",
    "    print(f.read(10))\n",
    "    print(f.read(10))"
   ]
  },
  {
   "cell_type": "markdown",
   "id": "3803d920-ccaf-4cab-91b8-3027b52d21af",
   "metadata": {},
   "source": [
    "# seek() and tell()"
   ]
  },
  {
   "cell_type": "code",
   "execution_count": 12,
   "id": "86284675-321a-4ac3-8277-088a05ff3c04",
   "metadata": {},
   "outputs": [
    {
     "name": "stdout",
     "output_type": "stream",
     "text": [
      "10\n"
     ]
    }
   ],
   "source": [
    "# tell() tells the position of the buffer (cursor) in the file. Indexing from 0.\n",
    "with open(\"data.txt\",'r') as f:\n",
    "    f.read(10)\n",
    "    print(f.tell())"
   ]
  },
  {
   "cell_type": "code",
   "execution_count": 18,
   "id": "7130ffe5-3ebb-4ae8-9226-4a0d19101d6e",
   "metadata": {},
   "outputs": [
    {
     "name": "stdout",
     "output_type": "stream",
     "text": [
      "Learn\n",
      "Coursor at: 5\n",
      "ing P\n",
      "Coursor at: 10\n",
      "Coursor at: 5\n"
     ]
    }
   ],
   "source": [
    "# seek() changes the position of the cursor (buffer)\n",
    "with open(\"data.txt\",'r') as f:\n",
    "    print(f.read(5))\n",
    "    print(\"Coursor at:\",f.tell())\n",
    "    print(f.read(5))\n",
    "    print(\"Coursor at:\",f.tell())\n",
    "    f.seek(5)\n",
    "    print(\"Coursor at:\",f.tell())"
   ]
  },
  {
   "cell_type": "code",
   "execution_count": 20,
   "id": "16d7c0a5-a24f-4f97-8000-b1c17e233edb",
   "metadata": {},
   "outputs": [],
   "source": [
    "# seek() with write\n",
    "with open(\"data.txt\",'w') as f:\n",
    "    f.write(\"Hello\")\n",
    "    f.seek(0)\n",
    "    f.write(\"Hii...\")"
   ]
  },
  {
   "cell_type": "markdown",
   "id": "33c5077e-c497-4816-89ea-a16aad8ab313",
   "metadata": {},
   "source": [
    "# Problems with text files"
   ]
  },
  {
   "cell_type": "code",
   "execution_count": 21,
   "id": "ba35054e-9384-4199-8c1b-aec19fb7a4ac",
   "metadata": {},
   "outputs": [],
   "source": [
    "# cannot work with binary files like images\n",
    "# not good for other data types"
   ]
  },
  {
   "cell_type": "code",
   "execution_count": 22,
   "id": "9ec19482-b2d0-4e12-9c55-40174c8c9799",
   "metadata": {},
   "outputs": [],
   "source": [
    "# working with binary files\n",
    "# copying 'photo' to 'copypgoto'\n",
    "with open(\"photo.jpg\",'rb') as f:\n",
    "    with open(\"copyPhoto.jpg\",'wb') as wf:\n",
    "        wf.write(f.read())"
   ]
  },
  {
   "cell_type": "markdown",
   "id": "eedfbde0-3eff-4155-b538-1998aa545382",
   "metadata": {},
   "source": [
    "# Serialization and Deserialization"
   ]
  },
  {
   "cell_type": "code",
   "execution_count": 23,
   "id": "c7e4b737-862c-4979-ac7e-64bcceec593a",
   "metadata": {},
   "outputs": [],
   "source": [
    "# serialization meanss converting python data types to JSON format\n",
    "# deserialization meanss converting JSON format to python data types\n",
    "# JSON = javaScript  "
   ]
  },
  {
   "cell_type": "code",
   "execution_count": 28,
   "id": "c7af215b-095a-4b13-ba01-f988665e2527",
   "metadata": {},
   "outputs": [],
   "source": [
    "# converting list to JSON using json module\n",
    "import json\n",
    "l=[1,2,3,4,5,6]\n",
    "with open('newFile.json','w') as f:\n",
    "    json.dump(l,f)"
   ]
  },
  {
   "cell_type": "code",
   "execution_count": 30,
   "id": "193cbe30-308e-4d98-947d-ccc297228c22",
   "metadata": {},
   "outputs": [],
   "source": [
    "# converting dinctionary to JSON using json module\n",
    "import json\n",
    "d={\"Name\":\"Ayush\",\"Age\":21}\n",
    "with open('newFile.json','w') as f:\n",
    "    json.dump(d,f)"
   ]
  },
  {
   "cell_type": "code",
   "execution_count": 31,
   "id": "b5e9da54-da9f-4c87-8df6-5006cc3fe302",
   "metadata": {},
   "outputs": [
    {
     "name": "stdout",
     "output_type": "stream",
     "text": [
      "{'Name': 'Ayush', 'Age': 21}\n"
     ]
    }
   ],
   "source": [
    "# converting JSON to dictionary\n",
    "import json\n",
    "with open('newFile.json','r') as f:\n",
    "    print(json.load(f))"
   ]
  },
  {
   "cell_type": "code",
   "execution_count": 32,
   "id": "9ad4cddc-3954-4b12-9712-c3e9caf89e8b",
   "metadata": {},
   "outputs": [],
   "source": [
    "# json module has 2 major functions\n",
    "# dump() to convert data types to JSON file\n",
    "# load() to convert JSON file to data type"
   ]
  },
  {
   "cell_type": "code",
   "execution_count": 33,
   "id": "68d30609-1179-4bae-9861-16088ccd4811",
   "metadata": {},
   "outputs": [],
   "source": [
    "# tuple is also treated as list during JSON conversion\n",
    "import json\n",
    "t=(1,2,3,4,5,6)\n",
    "with open('newFile.json','w') as f:\n",
    "    json.dump(t,f)"
   ]
  },
  {
   "cell_type": "markdown",
   "id": "699d906c-9bfe-4ddd-b141-016a7232d67c",
   "metadata": {},
   "source": [
    "# Pickling"
   ]
  },
  {
   "cell_type": "code",
   "execution_count": 2,
   "id": "cd0070af-dcb4-4cc9-9a56-417456fa5a70",
   "metadata": {},
   "outputs": [],
   "source": [
    "# Pickling is the process of converting python objects to byte stream(binary file).\n",
    "# Unpickling is the reverse process of pickling"
   ]
  },
  {
   "cell_type": "code",
   "execution_count": 5,
   "id": "f4ab4ef7-c2e1-45a3-b586-93faea462345",
   "metadata": {},
   "outputs": [],
   "source": [
    "import pickle\n",
    "l=[1,2,3,4,5]\n",
    "with open(\"pickle.pkl\",'wb') as f:\n",
    "    pickle.dump(l,f)"
   ]
  },
  {
   "cell_type": "markdown",
   "id": "bbf559b3-bbb0-4ba9-a841-c79aeec84546",
   "metadata": {},
   "source": [
    "# Pickle vs Serialization"
   ]
  },
  {
   "cell_type": "code",
   "execution_count": 8,
   "id": "ddf09f1c-0d0d-4cd7-b4a7-9922675302c8",
   "metadata": {},
   "outputs": [],
   "source": [
    "# Pickle converts the data types into binary format\n",
    "# Serializarion converts the data types into JSON format (human readable)"
   ]
  },
  {
   "cell_type": "markdown",
   "id": "b718807a-8f0d-4b31-b23b-1e8748848d95",
   "metadata": {},
   "source": [
    "# Error Handling"
   ]
  },
  {
   "cell_type": "code",
   "execution_count": 10,
   "id": "4c654737-0503-4dc7-a7b2-9d7f99b0715b",
   "metadata": {},
   "outputs": [],
   "source": [
    "# Syntax Error = During Compilation\n",
    "# Exceptions = During Runtime/Execution"
   ]
  },
  {
   "cell_type": "code",
   "execution_count": 13,
   "id": "594992a1-003f-44f6-878a-33fca898e5a2",
   "metadata": {},
   "outputs": [],
   "source": [
    "# Exception = Runtine Error in Python\n",
    "# Examples of Exception = Mempry Full, Divide by zero"
   ]
  },
  {
   "cell_type": "code",
   "execution_count": 14,
   "id": "f43c1616-8f0c-48dc-9a8f-8a5d8b731826",
   "metadata": {},
   "outputs": [],
   "source": [
    "# Excwption are handled by try-catch block."
   ]
  },
  {
   "cell_type": "code",
   "execution_count": 16,
   "id": "25eee779-b300-45ee-b452-ea33b001b676",
   "metadata": {},
   "outputs": [],
   "source": [
    "# try block = Possibility of error\n",
    "# except = executed if error occurs"
   ]
  },
  {
   "cell_type": "code",
   "execution_count": 17,
   "id": "8f565777-67e2-43b9-9a11-04934ba5e4cc",
   "metadata": {},
   "outputs": [
    {
     "name": "stdout",
     "output_type": "stream",
     "text": [
      "Error found\n"
     ]
    }
   ],
   "source": [
    "# catching all type of error\n",
    "try:\n",
    "    with open('ayush.txt','r'):\n",
    "        f.read()\n",
    "except:\n",
    "    print(\"Error found\")"
   ]
  },
  {
   "cell_type": "code",
   "execution_count": 24,
   "id": "4b402f7e-5c80-43de-b27a-32ea661772b5",
   "metadata": {},
   "outputs": [
    {
     "name": "stdout",
     "output_type": "stream",
     "text": [
      "Variable not declared\n"
     ]
    }
   ],
   "source": [
    "# catching specific error\n",
    "try:\n",
    "    print(x)\n",
    "except FileNotFoundError: # handles specific error\n",
    "    print(\"File not found\")\n",
    "except NameError: # handles specific error\n",
    "    print(\"Variable not declared\")\n",
    "except Exception as e:   # handles any error\n",
    "    print(e)"
   ]
  },
  {
   "cell_type": "code",
   "execution_count": 1,
   "id": "0c031ff3-fca9-424f-9043-05432e7ad1c9",
   "metadata": {},
   "outputs": [
    {
     "name": "stdout",
     "output_type": "stream",
     "text": [
      "[1, 2, 3, 4]\n",
      "No Error\n"
     ]
    }
   ],
   "source": [
    "# if there is error in try block, the except bolck will be executed.\n",
    "# if there is no error in try block, the else bolck will be executed.\n",
    "\n",
    "try:\n",
    "    l=[1,2,3,4]\n",
    "    print(l)\n",
    "except:\n",
    "    print(\"Error found\")\n",
    "else:\n",
    "    print(\"No Error\")"
   ]
  },
  {
   "cell_type": "code",
   "execution_count": 3,
   "id": "19426847-9729-47a7-a902-0ed979924544",
   "metadata": {},
   "outputs": [
    {
     "name": "stdout",
     "output_type": "stream",
     "text": [
      "Error found\n",
      "This is always executed\n"
     ]
    }
   ],
   "source": [
    " # finally() is always executed, weather there is error or not.\n",
    "try:\n",
    "    l=[1,2,3,4]\n",
    "    print(l[33])\n",
    "except:\n",
    "    print(\"Error found\")\n",
    "else:\n",
    "    print(\"No Error\")\n",
    "finally:\n",
    "    print(\"This is always executed\")"
   ]
  },
  {
   "cell_type": "code",
   "execution_count": 6,
   "id": "39c536ec-4e80-49b7-897e-99e6089298ee",
   "metadata": {},
   "outputs": [
    {
     "ename": "NameError",
     "evalue": "Error aa gyee bc",
     "output_type": "error",
     "traceback": [
      "\u001b[1;31m---------------------------------------------------------------------------\u001b[0m",
      "\u001b[1;31mNameError\u001b[0m                                 Traceback (most recent call last)",
      "Cell \u001b[1;32mIn[6], line 3\u001b[0m\n\u001b[0;32m      1\u001b[0m \u001b[38;5;66;03m# raising an error using \"raise keyword\" during runtine\u001b[39;00m\n\u001b[1;32m----> 3\u001b[0m \u001b[38;5;28;01mraise\u001b[39;00m \u001b[38;5;167;01mNameError\u001b[39;00m(\u001b[38;5;124m\"\u001b[39m\u001b[38;5;124mError aa gyee bc\u001b[39m\u001b[38;5;124m\"\u001b[39m)\n",
      "\u001b[1;31mNameError\u001b[0m: Error aa gyee bc"
     ]
    }
   ],
   "source": [
    "# raising an error using \"raise keyword\" during runtine\n",
    "\n",
    "raise NameError(\"Error aa gyee bc\")"
   ]
  },
  {
   "cell_type": "code",
   "execution_count": null,
   "id": "16ce332e-b34d-4614-a030-439348db9f55",
   "metadata": {},
   "outputs": [],
   "source": []
  }
 ],
 "metadata": {
  "kernelspec": {
   "display_name": "Python 3 (ipykernel)",
   "language": "python",
   "name": "python3"
  },
  "language_info": {
   "codemirror_mode": {
    "name": "ipython",
    "version": 3
   },
   "file_extension": ".py",
   "mimetype": "text/x-python",
   "name": "python",
   "nbconvert_exporter": "python",
   "pygments_lexer": "ipython3",
   "version": "3.11.7"
  }
 },
 "nbformat": 4,
 "nbformat_minor": 5
}
