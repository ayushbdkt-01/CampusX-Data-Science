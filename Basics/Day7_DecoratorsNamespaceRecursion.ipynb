{
 "cells": [
  {
   "cell_type": "markdown",
   "id": "b7bf205a-6351-48ba-ba0b-9d3f1fe74453",
   "metadata": {},
   "source": [
    "# Namespaces"
   ]
  },
  {
   "cell_type": "code",
   "execution_count": null,
   "id": "5cbe0984-92b9-418b-a2e6-c494516dc7f6",
   "metadata": {},
   "outputs": [],
   "source": [
    "# Namespaces are names for identifiers\n",
    "# They are generally a dictionary of identitiers (keys) and their objects (values)\n",
    "# Name of variable is key, value of variable is value in dictionary\n",
    "# 4 Types of Namespace = Local, Global, buildin, Enclosing\n",
    "# Scope = Area where the variable exists"
   ]
  },
  {
   "cell_type": "code",
   "execution_count": null,
   "id": "06eddd82-70bd-48b6-b310-32de1897b3b2",
   "metadata": {},
   "outputs": [],
   "source": [
    "# LEGB Rule = \n",
    "# first local, then enclosed, then global, then builtin"
   ]
  },
  {
   "cell_type": "code",
   "execution_count": null,
   "id": "b91f302b-c11e-463d-ae0c-65ae9b5d4f9b",
   "metadata": {},
   "outputs": [],
   "source": [
    "# Builtin Modules = Which can br used in any scope without thinking\n",
    "# like print() function"
   ]
  },
  {
   "cell_type": "code",
   "execution_count": null,
   "id": "9bf7ec67-6fb1-4538-989f-6205fb118541",
   "metadata": {},
   "outputs": [],
   "source": [
    "# printing all builtin namespaces\n",
    "import builtins\n",
    "print(dir(builtins))"
   ]
  },
  {
   "cell_type": "code",
   "execution_count": null,
   "id": "8f4f8afe-3beb-4224-98e7-1d36af13090c",
   "metadata": {},
   "outputs": [],
   "source": [
    "# ecnclosing scope means inside nested function"
   ]
  },
  {
   "cell_type": "markdown",
   "id": "e53f740d-5c48-46f5-97ae-09c0f699c272",
   "metadata": {},
   "source": [
    "# Decorators"
   ]
  },
  {
   "cell_type": "code",
   "execution_count": null,
   "id": "061714f3-1431-4499-aa63-0f2a87b051d9",
   "metadata": {},
   "outputs": [],
   "source": [
    "# a decorator is a function that takes some function as input and add some operations (decoration) on this input function.\n",
    "# happens because python functions are first class citizens\n",
    "\n",
    "# 2 types of decoratoes\n",
    "# Built in =  starts with '@', like @staticmethod, @classmethod\n",
    "# User defined decorator = programmer creates according to their needs\n"
   ]
  },
  {
   "cell_type": "code",
   "execution_count": null,
   "id": "02b1bdb4-9849-4828-b4c4-35ae7a1e3179",
   "metadata": {},
   "outputs": [],
   "source": [
    "def func(dquare,num):\n",
    "    return square(num)\n",
    "\n",
    "def square(num):\n",
    "    return num**2\n",
    "\n",
    "func(square,4)"
   ]
  },
  {
   "cell_type": "markdown",
   "id": "72e7577d-493e-4a35-8619-296b885f413b",
   "metadata": {},
   "source": [
    "# Recursion"
   ]
  },
  {
   "cell_type": "code",
   "execution_count": null,
   "id": "29d5b30e-724f-4732-9592-908d965c57b2",
   "metadata": {},
   "outputs": [],
   "source": [
    "# multiply 2 numbers without using '*' operator\n",
    "def prod(a,b):\n",
    "    if b==1: return a;\n",
    "    return a+prod(a,b-1)\n",
    "\n",
    "print(prod(2,3))"
   ]
  },
  {
   "cell_type": "code",
   "execution_count": null,
   "id": "4c922eb5-22a2-4866-855b-78cd64c29404",
   "metadata": {},
   "outputs": [],
   "source": [
    "def fact(n):\n",
    "    if n==1: return 1;\n",
    "    return n*fact(n-1)\n",
    "\n",
    "print(fact(5))"
   ]
  },
  {
   "cell_type": "code",
   "execution_count": null,
   "id": "0e3f2dfe-b599-4436-95a5-a79aad1ce4db",
   "metadata": {},
   "outputs": [],
   "source": [
    "def fib(n):\n",
    "    if n==0 or n==1: return 1\n",
    "    return fib(n-1)+fib(n-2)\n",
    "\n",
    "print(fib(45))"
   ]
  },
  {
   "cell_type": "code",
   "execution_count": null,
   "id": "390e8570-123e-4d10-8c6c-c7eb7dc46deb",
   "metadata": {},
   "outputs": [],
   "source": []
  }
 ],
 "metadata": {
  "kernelspec": {
   "display_name": "Python 3 (ipykernel)",
   "language": "python",
   "name": "python3"
  },
  "language_info": {
   "codemirror_mode": {
    "name": "ipython",
    "version": 3
   },
   "file_extension": ".py",
   "mimetype": "text/x-python",
   "name": "python",
   "nbconvert_exporter": "python",
   "pygments_lexer": "ipython3",
   "version": "3.11.7"
  }
 },
 "nbformat": 4,
 "nbformat_minor": 5
}
