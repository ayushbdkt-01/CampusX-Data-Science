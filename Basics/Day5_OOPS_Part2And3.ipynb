{
 "cells": [
  {
   "cell_type": "markdown",
   "id": "bdb956a5-e4a6-48d0-98d7-dcacf3672569",
   "metadata": {},
   "source": [
    "# OOPs basics revision"
   ]
  },
  {
   "cell_type": "code",
   "execution_count": 11,
   "id": "6ef02278-1bda-4b15-808e-49d25a9b251a",
   "metadata": {},
   "outputs": [
    {
     "data": {
      "text/plain": [
       "12.36931687685298"
      ]
     },
     "execution_count": 11,
     "metadata": {},
     "output_type": "execute_result"
    }
   ],
   "source": [
    "import math\n",
    "class Coordinate:\n",
    "    def __init__(self,x,y):\n",
    "        self.xCoordinate=x\n",
    "        self.yCoordinate=y\n",
    "    def findDistance(self,x1,y1,x2,y2):\n",
    "        return math.sqrt(((x2-x1)**2) + ((y2-y1)**2 ))\n",
    "    def distanceFromOrigin(self):\n",
    "        return math.sqrt((self.xCoordinate**2) + (self.yCoordinate**2 ))\n",
    "\n",
    "c1=Coordinate(12,3)\n",
    "c1.findDistance(12,3,14,3)\n",
    "c1.distanceFromOrigin()"
   ]
  },
  {
   "cell_type": "code",
   "execution_count": 19,
   "id": "72e6af2d-e88a-4bb1-bbd9-0efd208d1377",
   "metadata": {},
   "outputs": [
    {
     "name": "stdout",
     "output_type": "stream",
     "text": [
      "Hello Ayush\n",
      "Male\n"
     ]
    }
   ],
   "source": [
    "class Person:\n",
    "    def __init__(self,name,country):\n",
    "        self.name=name\n",
    "        self.country=country\n",
    "    def greet(self):\n",
    "        if self.country==\"India\":\n",
    "            print(\"Namaste\",self.name)\n",
    "        else:\n",
    "            print(\"Hello\",self.name)\n",
    "\n",
    "ayush=Person(\"Ayush\",\"US\")\n",
    "ayush.greet()\n",
    "\n",
    "ayush.gender=\"Male\" # created class variable outside the class.\n",
    "print(ayush.gender)"
   ]
  },
  {
   "cell_type": "markdown",
   "id": "45e92fea-9148-4e92-ba31-1e50e79fa52b",
   "metadata": {},
   "source": [
    "# Refrence Variables"
   ]
  },
  {
   "cell_type": "code",
   "execution_count": null,
   "id": "9c3b3268-645d-469b-8785-153a66261507",
   "metadata": {},
   "outputs": [],
   "source": [
    "# Refrence variables holds the objects\n",
    "# We can create objects without refrence variables as well.\n",
    "# an object can have multiple refrences\n",
    "# assiging a refrence to a variable will not create a new object\n"
   ]
  },
  {
   "cell_type": "code",
   "execution_count": 23,
   "id": "e0106d70-b64f-4705-b94d-5643780b2f95",
   "metadata": {},
   "outputs": [
    {
     "name": "stdout",
     "output_type": "stream",
     "text": [
      "Constructor Called\n",
      "2971671630608\n",
      "2971671630608\n"
     ]
    }
   ],
   "source": [
    "class temp:\n",
    "    def __init__(self):\n",
    "        print(\"Constructor Called\")\n",
    "p=temp() # p is a refrence of class temp\n",
    "q=p\n",
    "print(id(p))\n",
    "print(id(q))"
   ]
  },
  {
   "cell_type": "markdown",
   "id": "e72b866e-b6f9-4680-a43a-3e39cfacb865",
   "metadata": {},
   "source": [
    "# Pass by Refrence in Classes"
   ]
  },
  {
   "cell_type": "code",
   "execution_count": 6,
   "id": "526f9f46-a9b4-4a8e-b111-a51fa53216a4",
   "metadata": {},
   "outputs": [
    {
     "name": "stdout",
     "output_type": "stream",
     "text": [
      "My name is Ankit and I am Male\n",
      "Ayush\n",
      "Male\n"
     ]
    }
   ],
   "source": [
    "class Person:\n",
    "    def __init__(self,name,gender):\n",
    "        self.name=name\n",
    "        self.gender=gender\n",
    "\n",
    "def greet(p):\n",
    "    print(\"My name is {} and I am {}\".format(p.name,p.gender))\n",
    "    p1=Person(\"Ayush\",\"Male\")\n",
    "    return p1\n",
    "\n",
    "ayush=Person(\"Ankit\",\"Male\")\n",
    "person2=greet(ayush)\n",
    "print(person2.name)\n",
    "print(person2.gender)"
   ]
  },
  {
   "cell_type": "markdown",
   "id": "9e3160d5-f19f-45e1-a123-9254f0ec30ee",
   "metadata": {},
   "source": [
    "# Static Variables"
   ]
  },
  {
   "cell_type": "code",
   "execution_count": 9,
   "id": "195ef3fd-5b71-4db8-86c4-50f093f2e63e",
   "metadata": {},
   "outputs": [
    {
     "name": "stdout",
     "output_type": "stream",
     "text": [
      "1\n",
      "2\n",
      "3\n"
     ]
    }
   ],
   "source": [
    "class Student:\n",
    "    count=1\n",
    "    def __init__(self,name,marks):\n",
    "        self.name=name\n",
    "        self.marks=marks\n",
    "        self.id=Student.count\n",
    "        Student.count+=1\n",
    "\n",
    "s1=Student(\"Ayush\",12)\n",
    "s2=Student(\"Ankit\",13)\n",
    "s3=Student(\"Joshi\",11)\n",
    "print(s1.id)\n",
    "print(s2.id)\n",
    "print(s3.id)"
   ]
  },
  {
   "cell_type": "code",
   "execution_count": 12,
   "id": "4ae0b5dd-9b55-4494-ba67-9749fa7d7e3b",
   "metadata": {},
   "outputs": [],
   "source": [
    "# if any variable of class is starts with __, it is a private function\n",
    "class Student:\n",
    "    __rollNo # private variable\n"
   ]
  },
  {
   "cell_type": "markdown",
   "id": "56c1a2d5-ca0c-4d1c-a8e1-fcf90f92f88b",
   "metadata": {},
   "source": [
    "# OOPS Part-2"
   ]
  },
  {
   "cell_type": "markdown",
   "id": "1cd6d03a-f759-4a38-8321-a397cbeb89dd",
   "metadata": {},
   "source": [
    "# Aggregation"
   ]
  },
  {
   "cell_type": "code",
   "execution_count": 13,
   "id": "5a2277fe-dbd9-410d-af83-258a28571551",
   "metadata": {},
   "outputs": [],
   "source": [
    "# also called has-a-relation\n",
    "# means one class owns the other class"
   ]
  },
  {
   "cell_type": "markdown",
   "id": "a84e2577-d40c-4706-80f5-f938666bdc95",
   "metadata": {},
   "source": [
    "# Inheritence"
   ]
  },
  {
   "cell_type": "code",
   "execution_count": 20,
   "id": "0591d934-9a6a-49ed-8c95-ce4dff7b2306",
   "metadata": {},
   "outputs": [
    {
     "name": "stdout",
     "output_type": "stream",
     "text": [
      "Ayush\n"
     ]
    }
   ],
   "source": [
    "class User: # parent class\n",
    "    def __init__(self):\n",
    "        self.name=\"Ayush\"\n",
    "    def login(self):\n",
    "        print(\"Login Successfull\")\n",
    "\n",
    "class student(User): # child class\n",
    "    # def __init__(self):\n",
    "    #     rollNo=12\n",
    "    def enroll(self):\n",
    "        print(\"successfully enrolled in BTech\")\n",
    "u=User()\n",
    "s=student()\n",
    "print(s.name)"
   ]
  },
  {
   "cell_type": "code",
   "execution_count": 23,
   "id": "97526d44-27c3-45c4-80b5-1e820d418a72",
   "metadata": {},
   "outputs": [],
   "source": [
    "# child ka construction is called first in inheritence\n",
    "# if there is not child constructor, then parent class constructor is called\n",
    "# child class cannot access the private attributes of parent class\n",
    "# private members of the class can be accessed through getters()"
   ]
  },
  {
   "cell_type": "markdown",
   "id": "41173620-886e-4fb7-85c9-a0d47b81a565",
   "metadata": {},
   "source": [
    "# Method Overriding"
   ]
  },
  {
   "cell_type": "code",
   "execution_count": 24,
   "id": "b5c02f5e-ff51-4162-a5fa-4b2b1ded7832",
   "metadata": {},
   "outputs": [],
   "source": [
    "# if the child and parent class have methods/constructors with same name,\n",
    "# then the method/constructor of the child class will be callled.\n",
    "# super() can access only methods, not attributes (never)\n"
   ]
  },
  {
   "cell_type": "markdown",
   "id": "ce5c1fdd-6aa3-4476-8a28-edc968c2e3e3",
   "metadata": {},
   "source": [
    "# Super Keyword"
   ]
  },
  {
   "cell_type": "code",
   "execution_count": 35,
   "id": "40f90167-57bd-4049-916c-8b41f3240ce0",
   "metadata": {},
   "outputs": [
    {
     "name": "stdout",
     "output_type": "stream",
     "text": [
      "Inside Child constructor\n",
      "Inside Parent constructor\n",
      "Inside Child constructor\n",
      "Buying a SmartPhone\n",
      "Buying a phone\n"
     ]
    }
   ],
   "source": [
    "# used to access the attributes and functions of the parent class\n",
    "# super() is used inside the child class only.\n",
    "class Phone:\n",
    "    def __init__(self):\n",
    "        print(\"Inside Parent constructor\")\n",
    "    def buy(self):\n",
    "        print(\"Buying a phone\")\n",
    "\n",
    "class SmartPhone(Phone):\n",
    "    def __init__(self):\n",
    "        print(\"Inside Child constructor\")\n",
    "        super().__init__()\n",
    "        print(\"Inside Child constructor\")\n",
    "    def buy(self):\n",
    "        print(\"Buying a SmartPhone\")\n",
    "        super().buy()\n",
    "\n",
    "s=SmartPhone()\n",
    "s.buy()"
   ]
  },
  {
   "cell_type": "markdown",
   "id": "e331f72b-53f6-49a7-a687-9d95a2906093",
   "metadata": {},
   "source": [
    "# Types of Inheritence"
   ]
  },
  {
   "cell_type": "code",
   "execution_count": 36,
   "id": "336644a9-0191-45e7-a9e0-e01ccf77e0a9",
   "metadata": {},
   "outputs": [],
   "source": [
    "# Single\n",
    "# Multiple\n",
    "# Multilevel\n",
    "# Hybrid\n",
    "# Hierarchial"
   ]
  },
  {
   "cell_type": "markdown",
   "id": "70f67659-ad83-4eef-8398-fd7b39c444cb",
   "metadata": {},
   "source": [
    "# Polymorphism"
   ]
  },
  {
   "cell_type": "code",
   "execution_count": 37,
   "id": "0a18bd06-47a5-41b5-a88d-0705b368d0d0",
   "metadata": {},
   "outputs": [],
   "source": [
    "# polymorphism means different forms\n",
    "# 2 Types = Overloading and Overriding\n",
    "\n",
    "# Method overloading = same name functions with different arguments\n",
    "# it is not available in pyton\n",
    "# but can be implemented by using default arguments and if-else conditions\n",
    "\n",
    "# method overriding = ??"
   ]
  },
  {
   "cell_type": "markdown",
   "id": "b7f8aef8-8821-4183-acac-c6534a3493c4",
   "metadata": {},
   "source": [
    "# Abstraction"
   ]
  },
  {
   "cell_type": "code",
   "execution_count": null,
   "id": "9eeea3ca-9b28-44d1-be4d-d232b652c03a",
   "metadata": {},
   "outputs": [],
   "source": [
    "# Abstraction means hidden\n",
    "# absrreact mathods = no code inside function (\"pass\" keyword is used)\n",
    "# from abc import ABC,abstractmethod\n",
    "# abc means abstract base class\n",
    "# abstract class = atleast 1 abstract method.\n",
    "# cannnot create abjects of abstract class"
   ]
  }
 ],
 "metadata": {
  "kernelspec": {
   "display_name": "Python 3 (ipykernel)",
   "language": "python",
   "name": "python3"
  },
  "language_info": {
   "codemirror_mode": {
    "name": "ipython",
    "version": 3
   },
   "file_extension": ".py",
   "mimetype": "text/x-python",
   "name": "python",
   "nbconvert_exporter": "python",
   "pygments_lexer": "ipython3",
   "version": "3.11.7"
  }
 },
 "nbformat": 4,
 "nbformat_minor": 5
}
