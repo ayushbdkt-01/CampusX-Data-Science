{
 "cells": [
  {
   "cell_type": "markdown",
   "id": "2826c02b-5829-41e5-b560-4d91c6e8bf89",
   "metadata": {},
   "source": [
    "# Nested Loops"
   ]
  },
  {
   "cell_type": "code",
   "execution_count": 4,
   "id": "0fca2442-5ff1-439d-83ba-4001ff7ce88f",
   "metadata": {},
   "outputs": [
    {
     "name": "stdin",
     "output_type": "stream",
     "text": [
      "Enter number:  5\n"
     ]
    },
    {
     "name": "stdout",
     "output_type": "stream",
     "text": [
      "* \n",
      "* * \n",
      "* * * \n",
      "* * * * \n",
      "* * * * * \n"
     ]
    }
   ],
   "source": [
    "n=int(input(\"Enter number: \"))\n",
    "\n",
    "for i in range(1,n+1):\n",
    "    for j in range(1,i+1):\n",
    "        print(\"*\",end=\" \")\n",
    "    print()"
   ]
  },
  {
   "cell_type": "markdown",
   "id": "613ac8e1-f650-484c-bca0-9b0f2379ad55",
   "metadata": {},
   "source": [
    "# Loop Conditions"
   ]
  },
  {
   "cell_type": "code",
   "execution_count": 4,
   "id": "92a4aa11-3355-4631-a4f4-3d8b520a6cb8",
   "metadata": {},
   "outputs": [
    {
     "name": "stdout",
     "output_type": "stream",
     "text": [
      "1\n",
      "2\n",
      "3\n",
      "4\n",
      "------------------------------\n",
      "1\n",
      "2\n",
      "3\n",
      "4\n",
      "6\n",
      "7\n",
      "8\n",
      "9\n",
      "10\n",
      "------------------------------\n"
     ]
    }
   ],
   "source": [
    "# Break\n",
    "# Continue\n",
    "# Pass\n",
    "\n",
    "for i in range(1,11):\n",
    "    if(i==5): break;\n",
    "    print(i);\n",
    "\n",
    "print(30*\"-\")\n",
    "\n",
    "for i in range(1,11):\n",
    "    if(i==5): continue;\n",
    "    print(i);\n",
    "\n",
    "print(30*\"-\")\n",
    "\n",
    "for i in range(1,11):\n",
    "    pass"
   ]
  },
  {
   "cell_type": "markdown",
   "id": "4f47423a-eb06-4b07-83a5-3c0af934cbc7",
   "metadata": {},
   "source": [
    "# Strings"
   ]
  },
  {
   "cell_type": "code",
   "execution_count": 5,
   "id": "9d9f1069-5a61-4eee-8cca-8076b1ec2baf",
   "metadata": {},
   "outputs": [],
   "source": [
    "# Sequence of unicode characters.\n",
    "# ASCII is 8-bit\n",
    "# UniCode is 16-bit"
   ]
  },
  {
   "cell_type": "code",
   "execution_count": 6,
   "id": "9b492456-328a-49bc-afba-9f8b50d80922",
   "metadata": {},
   "outputs": [
    {
     "name": "stdout",
     "output_type": "stream",
     "text": [
      "Ayush Ayush Ayush Ayush\n"
     ]
    }
   ],
   "source": [
    "s=\"Ayush\"\n",
    "str='Ayush'\n",
    "ss=\"\"\"Ayush\"\"\"\n",
    "sss='''Ayush'''\n",
    "\n",
    "print(s,str,ss,sss)"
   ]
  },
  {
   "cell_type": "code",
   "execution_count": 7,
   "id": "ff4c6e1d-13e2-4fd4-bfc8-ecb5a2d2d090",
   "metadata": {},
   "outputs": [
    {
     "name": "stdout",
     "output_type": "stream",
     "text": [
      "A y u\n",
      "h s u\n"
     ]
    }
   ],
   "source": [
    "s=\"Ayush\"\n",
    "print(s[0],s[1],s[2])      # +ve Indexing\n",
    "print(s[-1],s[-2],s[-3])   # -ve Indexing"
   ]
  },
  {
   "cell_type": "code",
   "execution_count": 17,
   "id": "f2b870d5-549a-4c64-a000-52700582ad87",
   "metadata": {},
   "outputs": [
    {
     "name": "stdout",
     "output_type": "stream",
     "text": [
      "Ayus\n",
      "Auh\n",
      "hsuyA\n",
      "hsu\n"
     ]
    }
   ],
   "source": [
    "# SLicing\n",
    "s=\"Ayush\"\n",
    "print(s[0:4])\n",
    "print(s[0:5:2])\n",
    "print(s[::-1]) # reverse\n",
    "print(s[-1:-4:-1])\n"
   ]
  },
  {
   "cell_type": "markdown",
   "id": "0f0e7d55-7307-486f-a9b1-0a87043c28d4",
   "metadata": {},
   "source": [
    "# Editing and Deleting in String"
   ]
  },
  {
   "cell_type": "code",
   "execution_count": 18,
   "id": "67520e4c-ff67-43a5-8b27-ab70957954bf",
   "metadata": {},
   "outputs": [],
   "source": [
    "# Strings are immutable"
   ]
  },
  {
   "cell_type": "code",
   "execution_count": 24,
   "id": "1d01b55e-534d-4789-9964-af9916de5322",
   "metadata": {},
   "outputs": [
    {
     "name": "stdout",
     "output_type": "stream",
     "text": [
      "Ayush\n"
     ]
    }
   ],
   "source": [
    "# Deleting string\n",
    "s=\"Ayush\"\n",
    "del s\n",
    "print(s) # error because the string has been deleted in the above line\n",
    "\n",
    "# we can delete the whole string by \"del\" keyword but cannot delete any substring"
   ]
  },
  {
   "cell_type": "markdown",
   "id": "c7df0b9b-f040-4b36-8b00-b68b0de097a0",
   "metadata": {},
   "source": [
    "# Operations on Strings"
   ]
  },
  {
   "cell_type": "code",
   "execution_count": 38,
   "id": "ed91615a-ce49-48ec-aa5e-b6f4f24f9f61",
   "metadata": {},
   "outputs": [
    {
     "name": "stdout",
     "output_type": "stream",
     "text": [
      "AyushBudhlakoti\n",
      "AyushAyushAyushAyushAyush\n",
      "False\n",
      "True\n",
      "False\n",
      "False\n",
      "World\n",
      "Hello\n",
      "\n",
      "world\n",
      "True\n",
      "False\n"
     ]
    }
   ],
   "source": [
    "# Arithematic Operations\n",
    "print(\"Ayush\"+\"Budhlakoti\")\n",
    "print(\"Ayush\"*5)\n",
    "print(\"AYush\"==\"Bdkt\")\n",
    "print(\"AYush\"!=\"Bdkt\")\n",
    "print(\"mumbai\">\"pune\") # lexographically (dictionary order)\n",
    "print(\"Pune\">\"pune\")\n",
    "print(\"Hello\" and \"World\")\n",
    "print(\"Hello\" or \"World\")\n",
    "print(\"\" and \"world\")\n",
    "print(\"\" or \"world\")\n",
    "print(not \"\")\n",
    "print(not \"Ayush\")\n",
    "# empty string is false, other wise true"
   ]
  },
  {
   "cell_type": "markdown",
   "id": "09b03361-41ba-45a8-8b47-ce7ef6882b13",
   "metadata": {},
   "source": [
    "# Iterations on Strings"
   ]
  },
  {
   "cell_type": "code",
   "execution_count": 39,
   "id": "d07f1834-7f93-49e3-b77e-98e4b9d87df5",
   "metadata": {},
   "outputs": [
    {
     "name": "stdout",
     "output_type": "stream",
     "text": [
      "H\n",
      "e\n",
      "l\n",
      "l\n",
      "o\n"
     ]
    }
   ],
   "source": [
    "for i in \"Hello\":\n",
    "    print(i)"
   ]
  },
  {
   "cell_type": "code",
   "execution_count": 41,
   "id": "232e40a6-3c11-4c0e-b1d1-ef8305e3e521",
   "metadata": {},
   "outputs": [
    {
     "name": "stdout",
     "output_type": "stream",
     "text": [
      "Pune\n",
      "Pune\n",
      "Pune\n",
      "Pune\n",
      "Pune\n"
     ]
    }
   ],
   "source": [
    "for i in \"Delhi\":\n",
    "    print(\"Pune\")"
   ]
  },
  {
   "cell_type": "code",
   "execution_count": 43,
   "id": "4b24373a-9dbe-4d78-8150-edc6676a4f47",
   "metadata": {},
   "outputs": [
    {
     "name": "stdout",
     "output_type": "stream",
     "text": [
      "True\n",
      "False\n"
     ]
    }
   ],
   "source": [
    "print(\"D\" in \"Delhi\")\n",
    "print(\"D\" in \"delhi\")"
   ]
  },
  {
   "cell_type": "markdown",
   "id": "8992c41e-944d-48f7-8054-6e780a7dd0d6",
   "metadata": {},
   "source": [
    "# String Functions"
   ]
  },
  {
   "cell_type": "code",
   "execution_count": 56,
   "id": "e53601e1-4151-400f-88e9-edeb6b2af49c",
   "metadata": {},
   "outputs": [
    {
     "name": "stdout",
     "output_type": "stream",
     "text": [
      "7\n",
      "s\n",
      "M\n",
      "['M', 'a', 'd', 'k', 'o', 'o', 's']\n",
      "['s', 'o', 'o', 'k', 'd', 'a', 'M']\n"
     ]
    }
   ],
   "source": [
    "# commom functions are len,min,max,sorted\n",
    "# common func. are for all data structures\n",
    "s=\"Maksood\"\n",
    "print(len(s))\n",
    "print(max(s)) # ASCII VALUES\n",
    "print(min(s)) # ASCII VALUES\n",
    "print(sorted(s))\n",
    "print(sorted(s,reverse=True))"
   ]
  },
  {
   "cell_type": "code",
   "execution_count": 63,
   "id": "a5d2d187-cc2f-4f4a-9080-bd8bfc277e75",
   "metadata": {},
   "outputs": [
    {
     "name": "stdout",
     "output_type": "stream",
     "text": [
      "Maksood is a good boy\n",
      "Maksood Is A Good Boy\n",
      "MAKSOOD IS A GOOD BOY\n",
      "maksood is a good boy\n",
      "mAKSOOD IS A GOOD bOY\n"
     ]
    }
   ],
   "source": [
    "# Specific Functions for strings\n",
    "s=\"Maksood is a good Boy\"\n",
    "print(s.capitalize())\n",
    "print(s.title())\n",
    "print(s.upper())\n",
    "print(s.lower())\n",
    "print(s.swapcase())"
   ]
  },
  {
   "cell_type": "code",
   "execution_count": 64,
   "id": "3fb40b58-ddcc-4ec3-b4e7-3e413ac98d0a",
   "metadata": {},
   "outputs": [
    {
     "name": "stdout",
     "output_type": "stream",
     "text": [
      "2\n"
     ]
    }
   ],
   "source": [
    "# s.count(char) .. counts the freq of the character provided\n",
    "s=\"aayush\"\n",
    "print(s.count('a'))"
   ]
  },
  {
   "cell_type": "code",
   "execution_count": 67,
   "id": "62c80cc5-a9bb-4e8a-9781-f3a8e02e9e9c",
   "metadata": {},
   "outputs": [
    {
     "name": "stdout",
     "output_type": "stream",
     "text": [
      "6\n",
      "-1\n"
     ]
    }
   ],
   "source": [
    "# s.find(substring)....find the index of the substr provided\n",
    "# if not found, it returns -1\n",
    "s=\"ayush is a good boy\"\n",
    "print(s.find(\"is\"))\n",
    "print(s.find(\"x\"))"
   ]
  },
  {
   "cell_type": "code",
   "execution_count": 68,
   "id": "efd10696-7c7d-4648-bb57-dfff757a27dc",
   "metadata": {},
   "outputs": [
    {
     "name": "stdout",
     "output_type": "stream",
     "text": [
      "6\n"
     ]
    },
    {
     "ename": "ValueError",
     "evalue": "substring not found",
     "output_type": "error",
     "traceback": [
      "\u001b[1;31m---------------------------------------------------------------------------\u001b[0m",
      "\u001b[1;31mValueError\u001b[0m                                Traceback (most recent call last)",
      "Cell \u001b[1;32mIn[68], line 5\u001b[0m\n\u001b[0;32m      3\u001b[0m s\u001b[38;5;241m=\u001b[39m\u001b[38;5;124m\"\u001b[39m\u001b[38;5;124mayush is a good boy\u001b[39m\u001b[38;5;124m\"\u001b[39m\n\u001b[0;32m      4\u001b[0m \u001b[38;5;28mprint\u001b[39m(s\u001b[38;5;241m.\u001b[39mindex(\u001b[38;5;124m\"\u001b[39m\u001b[38;5;124mis\u001b[39m\u001b[38;5;124m\"\u001b[39m))\n\u001b[1;32m----> 5\u001b[0m \u001b[38;5;28mprint\u001b[39m(s\u001b[38;5;241m.\u001b[39mindex(\u001b[38;5;124m\"\u001b[39m\u001b[38;5;124mx\u001b[39m\u001b[38;5;124m\"\u001b[39m))\n",
      "\u001b[1;31mValueError\u001b[0m: substring not found"
     ]
    }
   ],
   "source": [
    "# s.find(substring)....find the index of the substr provided\n",
    "# if not found, it gives error\n",
    "s=\"ayush is a good boy\"\n",
    "print(s.index(\"is\"))\n",
    "print(s.index(\"x\"))"
   ]
  },
  {
   "cell_type": "code",
   "execution_count": 71,
   "id": "8ba6aca4-5b45-4289-ba28-19164a5d42e1",
   "metadata": {},
   "outputs": [
    {
     "name": "stdout",
     "output_type": "stream",
     "text": [
      "True\n",
      "False\n",
      "True\n",
      "False\n"
     ]
    }
   ],
   "source": [
    "s=\"ayush is a good boy\"\n",
    "print(s.startswith(\"ay\"))\n",
    "print(s.startswith(\"x\"))\n",
    "\n",
    "print(s.endswith(\"oy\"))\n",
    "print(s.endswith(\"x\"))"
   ]
  },
  {
   "cell_type": "code",
   "execution_count": 75,
   "id": "4a930620-fa44-4247-a6ac-858b2e6a2ff0",
   "metadata": {},
   "outputs": [
    {
     "name": "stdout",
     "output_type": "stream",
     "text": [
      "My name is Ayush Budhlakoti and my age is 21\n",
      "My name is Ayush Budhlakoti and my age is 21\n",
      "My name is 21 and my age is Ayush Budhlakoti\n"
     ]
    }
   ],
   "source": [
    "# format = used to insert variable values in string\n",
    "name=\"Ayush Budhlakoti\"\n",
    "age=21\n",
    "\n",
    "info=\"My name is {} and my age is {}\".format(name,age)\n",
    "print(info)\n",
    "\n",
    "info=\"My name is {0} and my age is {1}\".format(name,age) # 0:name , 1:age\n",
    "print(info)\n",
    "\n",
    "info=\"My name is {1} and my age is {0}\".format(name,age) # 0:name , 1:age\n",
    "print(info)"
   ]
  },
  {
   "cell_type": "code",
   "execution_count": 87,
   "id": "6f08c703-8ded-4548-b437-ce77326d654a",
   "metadata": {},
   "outputs": [
    {
     "name": "stdout",
     "output_type": "stream",
     "text": [
      "True\n",
      "False\n",
      "False\n",
      "True\n"
     ]
    }
   ],
   "source": [
    "password=\"ayush123\"\n",
    "print(password.isalnum()) # checks alpha-numeric\n",
    "print(password.isalpha()) # check alphabet\n",
    "print(password.isdigit()) # cehck digit\n",
    "print(password.isidentifier()) # checks that the string can be used as a indetifier or not\n"
   ]
  },
  {
   "cell_type": "code",
   "execution_count": 91,
   "id": "0a342cc1-c9d3-4e34-9fdd-39cbd4b5d69c",
   "metadata": {},
   "outputs": [
    {
     "name": "stdout",
     "output_type": "stream",
     "text": [
      "['Hello', 'My', 'name', 'is', 'ayush']\n",
      "['Hello My n', 'me is ', 'yush']\n"
     ]
    }
   ],
   "source": [
    "data=\"Hello My name is ayush\"\n",
    "print(data.split()) # default split is by space\n",
    "print(data.split('a')) # splits the string by character provided"
   ]
  },
  {
   "cell_type": "code",
   "execution_count": 97,
   "id": "e96d41f4-5165-48b9-9674-07b1d5980d08",
   "metadata": {},
   "outputs": [
    {
     "data": {
      "text/plain": [
       "'Hello-My-name-is-ayush'"
      ]
     },
     "execution_count": 97,
     "metadata": {},
     "output_type": "execute_result"
    }
   ],
   "source": [
    "# join() is the reverse of split\n",
    "\" \".join(['Hello', 'My', 'name', 'is', 'ayush']) # joins thee strings from the list with a space\n",
    "\"-\".join(['Hello', 'My', 'name', 'is', 'ayush'])"
   ]
  },
  {
   "cell_type": "code",
   "execution_count": 102,
   "id": "915211a3-e20b-4dda-b2b6-0bdf682de1b8",
   "metadata": {},
   "outputs": [
    {
     "data": {
      "text/plain": [
       "'My name is Ayush'"
      ]
     },
     "execution_count": 102,
     "metadata": {},
     "output_type": "execute_result"
    }
   ],
   "source": [
    "\"My name is Ayush\".replace(\"Auysh\",\"Maksood\")"
   ]
  },
  {
   "cell_type": "code",
   "execution_count": 106,
   "id": "4b6a3838-ea54-4e14-98e2-64ec813656ea",
   "metadata": {},
   "outputs": [
    {
     "data": {
      "text/plain": [
       "'Ayush'"
      ]
     },
     "execution_count": 106,
     "metadata": {},
     "output_type": "execute_result"
    }
   ],
   "source": [
    "\"      Ayush        \".strip() # Removes extra spaces from start and end of the string"
   ]
  },
  {
   "cell_type": "markdown",
   "id": "2c3da30c-8313-4017-9380-347b7f7c5b88",
   "metadata": {},
   "source": [
    "# String Problems"
   ]
  },
  {
   "cell_type": "code",
   "execution_count": 108,
   "id": "edf5e815-2c95-4dc8-a474-20a522c8c5d7",
   "metadata": {},
   "outputs": [
    {
     "name": "stdout",
     "output_type": "stream",
     "text": [
      "Length of string is: 5\n"
     ]
    }
   ],
   "source": [
    "# Find the length of the string wothout using len() function\n",
    "s=\"Ayush\"\n",
    "count=0\n",
    "for i in s:\n",
    "    count+=1\n",
    "print(\"Length of string is:\",count)\n"
   ]
  },
  {
   "cell_type": "code",
   "execution_count": 1,
   "id": "e8a6ff16-12d2-4ac2-9ec5-5e7157604077",
   "metadata": {},
   "outputs": [
    {
     "name": "stdout",
     "output_type": "stream",
     "text": [
      "ayushbdkt2004\n"
     ]
    }
   ],
   "source": [
    "# extract username from a smail\n",
    "email=\"ayushbdkt2004@gmail.com\"\n",
    "pos=email.index('@')\n",
    "print(email[0:pos])"
   ]
  },
  {
   "cell_type": "code",
   "execution_count": 2,
   "id": "65303d33-8f1c-4a0e-a929-36bf35152542",
   "metadata": {},
   "outputs": [
    {
     "name": "stdin",
     "output_type": "stream",
     "text": [
      "Enter String:  ayshaaa\n",
      "Enter target character:  a\n"
     ]
    },
    {
     "name": "stdout",
     "output_type": "stream",
     "text": [
      "4\n"
     ]
    }
   ],
   "source": [
    "# Count the frequency of a character\n",
    "s=input(\"Enter String: \")\n",
    "target=input(\"Enter target character: \")\n",
    "\n",
    "count=0\n",
    "for i in s:\n",
    "    if(i==target): count+=1\n",
    "print(count)"
   ]
  },
  {
   "cell_type": "code",
   "execution_count": 3,
   "id": "9c20bdcf-413a-44a6-8124-ad347dbd7146",
   "metadata": {},
   "outputs": [
    {
     "name": "stdin",
     "output_type": "stream",
     "text": [
      "Enter String:  ayushbdkt\n",
      "Enter target character:  a\n"
     ]
    },
    {
     "name": "stdout",
     "output_type": "stream",
     "text": [
      "New string: yushbdkt\n"
     ]
    }
   ],
   "source": [
    "# Remove a specific character from the string\n",
    "s=input(\"Enter String: \")\n",
    "target=input(\"Enter target character: \")\n",
    "ans=\"\"\n",
    "for i in s:\n",
    "    if i!=target: ans=ans+i\n",
    "print(\"New string:\",ans)"
   ]
  },
  {
   "cell_type": "code",
   "execution_count": 7,
   "id": "c2372386-8709-4b48-9647-0b3021198978",
   "metadata": {},
   "outputs": [
    {
     "name": "stdin",
     "output_type": "stream",
     "text": [
      "Enter String:  ayush\n"
     ]
    },
    {
     "name": "stdout",
     "output_type": "stream",
     "text": [
      "String is not Palindrome\n"
     ]
    }
   ],
   "source": [
    "# Check Palindrome\n",
    "s=input(\"Enter String: \")\n",
    "pal=True\n",
    "for i in range(0,len(s)//2):\n",
    "    if s[i]!=s[len(s)-i-1]:\n",
    "        pal=False\n",
    "        break\n",
    "if pal==True: print(\"String is Palindrome\")\n",
    "else: print(\"String is not Palindrome\")"
   ]
  },
  {
   "cell_type": "code",
   "execution_count": 10,
   "id": "072fa124-923d-4fb6-b917-84eeefb0daaf",
   "metadata": {},
   "outputs": [
    {
     "name": "stdin",
     "output_type": "stream",
     "text": [
      "Enter String:  ayush is a bad boy\n"
     ]
    },
    {
     "name": "stdout",
     "output_type": "stream",
     "text": [
      "Number of Words: 5\n",
      "['ayush', 'is', 'a', 'bad', 'boy']\n"
     ]
    }
   ],
   "source": [
    "# Count number of words in a string without using split()\n",
    "# Ans also make a list of words\n",
    "s=input(\"Enter String: \")\n",
    "s=s.strip() # removes extra spaces\n",
    "temp=\"\"\n",
    "myList=[]\n",
    "count=1\n",
    "for i in s:\n",
    "    if i==\" \":\n",
    "        myList.append(temp)\n",
    "        temp=\"\"\n",
    "        count+=1\n",
    "    else:\n",
    "        temp=temp+i\n",
    "myList.append(temp)\n",
    "print(\"Number of Words:\",count)\n",
    "print(myList)\n",
    "    "
   ]
  },
  {
   "cell_type": "code",
   "execution_count": 17,
   "id": "1234122f-7a25-4e43-9769-179d7f8deb91",
   "metadata": {},
   "outputs": [
    {
     "name": "stdin",
     "output_type": "stream",
     "text": [
      "Enter String:  auda\n"
     ]
    },
    {
     "name": "stdout",
     "output_type": "stream",
     "text": [
      "auda\n"
     ]
    }
   ],
   "source": [
    "# Convert a string to title case without using title()\n",
    "s=input(\"Enter String: \")\n",
    "s=s.strip() # removes extra spaces\n",
    "s.replace(s[0],s[0].upper())\n",
    "for i in s:\n",
    "    if i==' ':\n",
    "        s=s.replace(s[i+1],s[i+1].upper())\n",
    "print(s)"
   ]
  },
  {
   "cell_type": "code",
   "execution_count": 26,
   "id": "6efa4bbc-ea5c-467a-9ab2-a06fdbc816ba",
   "metadata": {},
   "outputs": [
    {
     "name": "stdin",
     "output_type": "stream",
     "text": [
      "Enter number:  1234\n"
     ]
    },
    {
     "name": "stdout",
     "output_type": "stream",
     "text": [
      "1234\n",
      "<class 'str'>\n"
     ]
    }
   ],
   "source": [
    "# Convert a int to string\n",
    "n=int(input(\"Enter number: \"))\n",
    "digits=\"0123456789\"\n",
    "temp=\"\"\n",
    "while n!=0:\n",
    "    temp=digits[n%10]+temp\n",
    "    n=n//10\n",
    "print(temp)\n",
    "print(type(temp))"
   ]
  },
  {
   "cell_type": "code",
   "execution_count": null,
   "id": "60ff50fd-3458-4c4c-a8e9-e5d80c3c1f14",
   "metadata": {},
   "outputs": [],
   "source": []
  }
 ],
 "metadata": {
  "kernelspec": {
   "display_name": "Python 3 (ipykernel)",
   "language": "python",
   "name": "python3"
  },
  "language_info": {
   "codemirror_mode": {
    "name": "ipython",
    "version": 3
   },
   "file_extension": ".py",
   "mimetype": "text/x-python",
   "name": "python",
   "nbconvert_exporter": "python",
   "pygments_lexer": "ipython3",
   "version": "3.11.7"
  }
 },
 "nbformat": 4,
 "nbformat_minor": 5
}
