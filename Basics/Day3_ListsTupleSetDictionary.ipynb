{
 "cells": [
  {
   "cell_type": "markdown",
   "id": "13b37e67-5c7f-4005-99ce-b40d7b52dac6",
   "metadata": {},
   "source": [
    "# List"
   ]
  },
  {
   "cell_type": "code",
   "execution_count": 1,
   "id": "d5ddf9be-6990-4298-8a0d-6f5de6d7076f",
   "metadata": {},
   "outputs": [],
   "source": [
    "# Data Structure used to store different/same type of data\n",
    "# can store multiple items under single name, different data types\n",
    "# lists are dynamic, size can be changed\n",
    "# Lists are slower than numpy arrays in python\n",
    "# Lists take more space in memory than numpy Arrays in python\n",
    "# Homogeneous, if all elements of list are of same type\n",
    "# Heterogenerous, if there are multiple types of data "
   ]
  },
  {
   "cell_type": "code",
   "execution_count": 2,
   "id": "c12ef985-03bc-46c1-b636-0c43670f03b6",
   "metadata": {},
   "outputs": [
    {
     "name": "stdout",
     "output_type": "stream",
     "text": [
      "140709412324168\n"
     ]
    }
   ],
   "source": [
    "# id() prints the memory address.\n",
    "a=2\n",
    "print(id(a))"
   ]
  },
  {
   "cell_type": "code",
   "execution_count": 3,
   "id": "78e0f1b5-ad63-4413-b4c0-4b9fb3ddeab2",
   "metadata": {},
   "outputs": [],
   "source": [
    "# Lists are refrential arrays, they stores the address of the elements of the List"
   ]
  },
  {
   "cell_type": "markdown",
   "id": "18dbba20-bf0b-4456-81a2-cbc5a9218f8a",
   "metadata": {},
   "source": [
    "# Types of List"
   ]
  },
  {
   "cell_type": "code",
   "execution_count": 8,
   "id": "1c688270-79d2-43dd-9c5c-11d3bc3c436b",
   "metadata": {},
   "outputs": [
    {
     "name": "stdout",
     "output_type": "stream",
     "text": [
      "[]\n",
      "[1, 2, 3, 5, 4]\n",
      "[[1, 2], [3, 4], [5, 6]]\n",
      "[[[1, 2], [3, 4]], [4, 5]]\n",
      "['Hello', 1, 1, 22, True, (2+3j)]\n",
      "['H', 'e', 'l', 'l', 'o']\n"
     ]
    }
   ],
   "source": [
    "# empty List\n",
    "print([])\n",
    "\n",
    "# 1-D List\n",
    "print([1,2,3,5,4])\n",
    "\n",
    "# 2D List\n",
    "print([[1,2],[3,4],[5,6]])\n",
    "\n",
    "# 3D List\n",
    "print([[[1,2],[3,4]],[4,5]])\n",
    "\n",
    "# Heterogeneus List\n",
    "print([\"Hello\",1,1,22,True,2+3j])\n",
    "\n",
    "# Using type conversion\n",
    "print(list(\"Hello\"))"
   ]
  },
  {
   "cell_type": "code",
   "execution_count": 10,
   "id": "fb3da541-f232-49f6-8482-a88c56052150",
   "metadata": {},
   "outputs": [
    {
     "name": "stdout",
     "output_type": "stream",
     "text": [
      "1\n",
      "5\n"
     ]
    }
   ],
   "source": [
    "# Indexing\n",
    "l=[1,2,3,4,5]\n",
    "\n",
    "# +ve indexing\n",
    "print(l[0])\n",
    "# -ve indexing\n",
    "print(l[-1])"
   ]
  },
  {
   "cell_type": "code",
   "execution_count": 13,
   "id": "d2997606-8a82-4a57-abee-a4e4e8a93eeb",
   "metadata": {},
   "outputs": [
    {
     "name": "stdout",
     "output_type": "stream",
     "text": [
      "4\n"
     ]
    }
   ],
   "source": [
    "l=[[1,2],[3,4],[5,6]]\n",
    "print(l[1][1])"
   ]
  },
  {
   "cell_type": "code",
   "execution_count": 18,
   "id": "98e37aea-450c-4917-866c-ec1b2aefa819",
   "metadata": {},
   "outputs": [
    {
     "name": "stdout",
     "output_type": "stream",
     "text": [
      "[1, 2, 3]\n",
      "[1, 3, 5]\n"
     ]
    }
   ],
   "source": [
    "# Slicing\n",
    "l=[1,2,3,4,5]\n",
    "print(l[0:3])\n",
    "print(l[0:5:2])"
   ]
  },
  {
   "cell_type": "markdown",
   "id": "b7b74b17-d7ae-46cd-94fb-98d3e0c3c9b8",
   "metadata": {},
   "source": [
    "# Adding items in List"
   ]
  },
  {
   "cell_type": "code",
   "execution_count": 22,
   "id": "841312a6-60d4-42db-a4a8-a2162d953e03",
   "metadata": {},
   "outputs": [
    {
     "name": "stdout",
     "output_type": "stream",
     "text": [
      "[1, 2, 3, 4, 5, 6]\n",
      "[1, 2, 3, 4, 5, 6, 7, 8, 9]\n",
      "[1, 2, 1000, 3, 4, 5, 6, 7, 8, 9]\n"
     ]
    }
   ],
   "source": [
    "l=[1,2,3,4,5]\n",
    "\n",
    "# append() = add element at end of list, adds single item\n",
    "l.append(6)\n",
    "print(l)\n",
    "\n",
    "# extend() = edd list at end of a given list, adds multiple items\n",
    "l.extend([7,8,9])\n",
    "print(l)\n",
    "\n",
    "# insert(index,data) = edd list at desired position in the list, adds multiple items\n",
    "l.insert(2,1000)\n",
    "print(l)"
   ]
  },
  {
   "cell_type": "markdown",
   "id": "280fe47f-4536-4a26-9605-55f536f374c4",
   "metadata": {},
   "source": [
    "# Editing Items in a List"
   ]
  },
  {
   "cell_type": "code",
   "execution_count": 26,
   "id": "44c9e7a8-d69b-4978-80ab-c05a1adc4253",
   "metadata": {},
   "outputs": [
    {
     "name": "stdout",
     "output_type": "stream",
     "text": [
      "[1, 2, 3, 4, 5]\n",
      "[100, 2, 3, 4, 5]\n",
      "[100, 200, 300, 400, 500]\n"
     ]
    }
   ],
   "source": [
    "l=[1,2,3,4,5]\n",
    "print(l)\n",
    "l[0]=100\n",
    "print(l)\n",
    "l[1:5]=[200,300,400,500]\n",
    "print(l)"
   ]
  },
  {
   "cell_type": "markdown",
   "id": "efb54f17-cc74-4119-aeb4-b2d0044537dc",
   "metadata": {},
   "source": [
    "# Deleting items from a list"
   ]
  },
  {
   "cell_type": "code",
   "execution_count": 27,
   "id": "11dbe6c1-637a-47aa-923e-ae1f91650251",
   "metadata": {},
   "outputs": [
    {
     "name": "stdout",
     "output_type": "stream",
     "text": [
      "[1, 2, 3, 4, 5]\n"
     ]
    },
    {
     "ename": "NameError",
     "evalue": "name 'l' is not defined",
     "output_type": "error",
     "traceback": [
      "\u001b[1;31m---------------------------------------------------------------------------\u001b[0m",
      "\u001b[1;31mNameError\u001b[0m                                 Traceback (most recent call last)",
      "Cell \u001b[1;32mIn[27], line 4\u001b[0m\n\u001b[0;32m      2\u001b[0m \u001b[38;5;28mprint\u001b[39m(l)\n\u001b[0;32m      3\u001b[0m \u001b[38;5;28;01mdel\u001b[39;00m l\n\u001b[1;32m----> 4\u001b[0m \u001b[38;5;28mprint\u001b[39m(l)\n",
      "\u001b[1;31mNameError\u001b[0m: name 'l' is not defined"
     ]
    }
   ],
   "source": [
    "l=[1,2,3,4,5]\n",
    "print(l)\n",
    "del l\n",
    "print(l) # error because the list has been deleted"
   ]
  },
  {
   "cell_type": "code",
   "execution_count": 28,
   "id": "5920ba17-fbfa-416a-a03f-bd6554c76feb",
   "metadata": {},
   "outputs": [
    {
     "name": "stdout",
     "output_type": "stream",
     "text": [
      "[1, 2, 3, 4, 5]\n",
      "[1, 2, 3, 4]\n"
     ]
    }
   ],
   "source": [
    "# del deletes elements by index\n",
    "l=[1,2,3,4,5]\n",
    "print(l)\n",
    "del l[-1]\n",
    "print(l)"
   ]
  },
  {
   "cell_type": "code",
   "execution_count": 29,
   "id": "b9aa2bc9-0100-4e17-b18d-581be902ba71",
   "metadata": {},
   "outputs": [
    {
     "name": "stdout",
     "output_type": "stream",
     "text": [
      "[1, 2, 3, 4, 5]\n",
      "[4, 5]\n"
     ]
    }
   ],
   "source": [
    "l=[1,2,3,4,5]\n",
    "print(l)\n",
    "del l[0:3]\n",
    "print(l)"
   ]
  },
  {
   "cell_type": "code",
   "execution_count": 30,
   "id": "f5f75eed-396d-47ea-ad09-ac0433ab27b5",
   "metadata": {},
   "outputs": [
    {
     "name": "stdout",
     "output_type": "stream",
     "text": [
      "[1, 2, 3, 4, 5]\n",
      "[1, 2, 3, 4]\n"
     ]
    }
   ],
   "source": [
    "# remove() delete elements by value\n",
    "l=[1,2,3,4,5]\n",
    "print(l)\n",
    "l.remove(5)\n",
    "print(l)"
   ]
  },
  {
   "cell_type": "code",
   "execution_count": 31,
   "id": "1e1b19d2-a61e-4cd7-bffa-c12052f09b53",
   "metadata": {},
   "outputs": [
    {
     "name": "stdout",
     "output_type": "stream",
     "text": [
      "[1, 2, 3, 4, 5]\n",
      "[1, 2, 3, 4]\n"
     ]
    }
   ],
   "source": [
    "# pop() deletes the index provided, otherwise it delets the last index if no index is provided\n",
    "# like in stack in DSA\n",
    "l=[1,2,3,4,5]\n",
    "print(l)\n",
    "l.pop()\n",
    "print(l)"
   ]
  },
  {
   "cell_type": "code",
   "execution_count": 32,
   "id": "d9ada5d0-daa3-4167-92f0-ca9417c390f9",
   "metadata": {},
   "outputs": [
    {
     "name": "stdout",
     "output_type": "stream",
     "text": [
      "[1, 2, 3, 4, 5]\n",
      "[]\n"
     ]
    }
   ],
   "source": [
    "# clear() removes all data from the list and makes it an empty list\n",
    "l=[1,2,3,4,5]\n",
    "print(l)\n",
    "l.clear()\n",
    "print(l)"
   ]
  },
  {
   "cell_type": "markdown",
   "id": "fb1507a3-72e0-4fcd-8246-9f9200a37b8e",
   "metadata": {},
   "source": [
    "# Operations on List"
   ]
  },
  {
   "cell_type": "code",
   "execution_count": 34,
   "id": "a23e22b7-99aa-4f51-9885-3b5d8ff2c997",
   "metadata": {},
   "outputs": [
    {
     "name": "stdout",
     "output_type": "stream",
     "text": [
      "[1, 2, 3, 4, 5, 1, 2, 3, 4, 5]\n",
      "[1, 2, 3, 4, 5, 1, 2, 3, 4, 5, 1, 2, 3, 4, 5]\n"
     ]
    }
   ],
   "source": [
    "# Arithematic Operations\n",
    "\n",
    "l=[1,2,3,4,5]\n",
    "print(l+l) # merges 2 list\n",
    "print(l*3) # merge list 'n' times"
   ]
  },
  {
   "cell_type": "code",
   "execution_count": 36,
   "id": "31be84a1-43b2-4406-bd75-da8118270e37",
   "metadata": {},
   "outputs": [
    {
     "name": "stdout",
     "output_type": "stream",
     "text": [
      "True\n",
      "False\n"
     ]
    }
   ],
   "source": [
    "# membership operators\n",
    "l=[1,2,3,4,5]\n",
    "print(2 in l)\n",
    "print(2 not in l)"
   ]
  },
  {
   "cell_type": "code",
   "execution_count": 37,
   "id": "0b0a30d2-6c5c-44ab-a62c-5cbbe6dc28f6",
   "metadata": {},
   "outputs": [
    {
     "name": "stdout",
     "output_type": "stream",
     "text": [
      "1\n",
      "2\n",
      "3\n",
      "4\n",
      "5\n"
     ]
    }
   ],
   "source": [
    "# iteration\n",
    "l=[1,2,3,4,5]\n",
    "for i in l:\n",
    "    print(i)"
   ]
  },
  {
   "cell_type": "markdown",
   "id": "667e4895-8fcb-4f91-ab44-b111840eae9b",
   "metadata": {},
   "source": [
    "# Basic List Function"
   ]
  },
  {
   "cell_type": "code",
   "execution_count": 52,
   "id": "09c9f884-9050-45da-9609-d83ddcdeaf38",
   "metadata": {},
   "outputs": [
    {
     "name": "stdout",
     "output_type": "stream",
     "text": [
      "5\n",
      "10\n",
      "50\n",
      "[10, 20, 30, 40, 50]\n",
      "[50, 40, 30, 20, 10]\n",
      "1\n",
      "1\n",
      "None\n",
      "[50, 40, 30, 20, 10]\n",
      "None\n"
     ]
    }
   ],
   "source": [
    "l=[10,20,30,40,50]\n",
    "print(len(l))\n",
    "print(min(l))\n",
    "print(max(l))\n",
    "print(sorted(l))\n",
    "print(sorted(l,reverse=True))\n",
    "print(l.count(20)) # counts the freq of the element\n",
    "\n",
    "print(l.index(20))\n",
    "print(l.reverse()) # permanently reverses the list\n",
    "print(l) # reversed list\n",
    "print(l.sort()) # permanent sorting"
   ]
  },
  {
   "cell_type": "code",
   "execution_count": 53,
   "id": "28503623-bb8a-4b68-ad64-d6f253d6cff6",
   "metadata": {},
   "outputs": [
    {
     "name": "stdout",
     "output_type": "stream",
     "text": [
      "2008715971776\n",
      "2008715998080\n"
     ]
    }
   ],
   "source": [
    "# copying a list into another list\n",
    "l=[1,2,3,4,5]\n",
    "print(id(l))\n",
    "l2=l.copy()\n",
    "print(id(l2))\n",
    "# values of list are same but the address is different because it creates a shalllow copy of the list in memory"
   ]
  },
  {
   "cell_type": "markdown",
   "id": "7b248961-0b2b-4492-825a-09183b0f4529",
   "metadata": {},
   "source": [
    "# List Comprehension"
   ]
  },
  {
   "cell_type": "code",
   "execution_count": 55,
   "id": "6e491ad0-01ce-42cf-b848-57a42d0288b2",
   "metadata": {},
   "outputs": [
    {
     "name": "stdout",
     "output_type": "stream",
     "text": [
      "[1, 2, 3, 4, 5, 6, 7, 8, 9, 10]\n",
      "[1, 2, 3, 4, 5, 6, 7, 8, 9, 10]\n"
     ]
    }
   ],
   "source": [
    "# It a shortcut way to create a list\n",
    "\n",
    "# create a list from 0-10 (normal list)\n",
    "l=[]\n",
    "for i in range(1,11): l.append(i)\n",
    "print(l)\n",
    "\n",
    "# create a list from 0-10 (comprehension list)\n",
    "l=[i for i in range(1,11)]\n",
    "print(l)"
   ]
  },
  {
   "cell_type": "code",
   "execution_count": 60,
   "id": "edb94761-9c51-4671-aee9-ccc9f26a0a4d",
   "metadata": {},
   "outputs": [
    {
     "name": "stdout",
     "output_type": "stream",
     "text": [
      "[-3, -6, -9, -12, -15]\n",
      "[-3, -6, -9, -12, -15, -18, -21, -24, -27, -30]\n"
     ]
    }
   ],
   "source": [
    "# scalar multiplication on list\n",
    "\n",
    "# normal list:\n",
    "l=[1,2,3,4,5]\n",
    "ans=[]\n",
    "for i in l:\n",
    "    ans.append(i*-3)\n",
    "print(ans)\n",
    "\n",
    "# comprehension list:\n",
    "l=[-3*i for i in range(1,11)]\n",
    "print(l)"
   ]
  },
  {
   "cell_type": "code",
   "execution_count": 62,
   "id": "911a0a89-8e2c-4d69-8a4d-b21c79d00bb0",
   "metadata": {},
   "outputs": [
    {
     "name": "stdout",
     "output_type": "stream",
     "text": [
      "[1, 4, 9, 16, 25]\n",
      "[1, 4, 9, 16, 25, 36, 49, 64, 81, 100]\n"
     ]
    }
   ],
   "source": [
    "# squares of list\n",
    "\n",
    "# normal list:\n",
    "l=[1,2,3,4,5]\n",
    "ans=[]\n",
    "for i in l:\n",
    "    ans.append(i**2)\n",
    "print(ans)\n",
    "\n",
    "# comprehension list:\n",
    "l=[i*i for i in range(1,11)]\n",
    "print(l)"
   ]
  },
  {
   "cell_type": "code",
   "execution_count": 64,
   "id": "abb053d4-5e53-48ae-a42f-26c191c98548",
   "metadata": {},
   "outputs": [
    {
     "name": "stdout",
     "output_type": "stream",
     "text": [
      "[5, 10, 15, 20, 25, 30, 35, 40, 45, 50]\n"
     ]
    }
   ],
   "source": [
    "# list of all numbers divisible by 5 from 1 to 50:\n",
    "l=[i for i in range(1,51) if i%5==0]\n",
    "print(l)"
   ]
  },
  {
   "cell_type": "code",
   "execution_count": 67,
   "id": "1ebfc84e-e740-4248-aceb-49b62a82229e",
   "metadata": {},
   "outputs": [
    {
     "name": "stdout",
     "output_type": "stream",
     "text": [
      "['Ayush', 'Ankit']\n"
     ]
    }
   ],
   "source": [
    "# print names starting with 'a'\n",
    "names=[\"Ayush\",\"Maksood\",\"Ankit\",\"Joshi\"]\n",
    "l=[name for name in names if name.startswith('A')]\n",
    "print(l)"
   ]
  },
  {
   "cell_type": "code",
   "execution_count": 68,
   "id": "71efa89d-b92b-488c-ae81-dcf955132935",
   "metadata": {},
   "outputs": [
    {
     "name": "stdout",
     "output_type": "stream",
     "text": [
      "[15, 30, 45, 60, 75, 90]\n"
     ]
    }
   ],
   "source": [
    "# nested if with list comprehension\n",
    "l=[i for i in range(1,101) if i%5==0 if i%3==0]\n",
    "print(l) # list with numbers divisors of 5 and 3"
   ]
  },
  {
   "cell_type": "code",
   "execution_count": 71,
   "id": "78861fa8-13f2-4677-bfba-4171d710e9a0",
   "metadata": {},
   "outputs": [
    {
     "name": "stdout",
     "output_type": "stream",
     "text": [
      "[[1, 2, 3, 4], [2, 4, 6, 8], [3, 6, 9, 12], [4, 8, 12, 16]]\n"
     ]
    }
   ],
   "source": [
    "# printing a 3*3 matrix\n",
    "l=[[i*j for i in range(1,5)] for j in range(1,5)]\n",
    "print(l)"
   ]
  },
  {
   "cell_type": "code",
   "execution_count": 75,
   "id": "8da100ba-d0c1-4bc4-919f-3ce439fa84f3",
   "metadata": {},
   "outputs": [
    {
     "name": "stdout",
     "output_type": "stream",
     "text": [
      "[[5, 6, 7, 8], [10, 12, 14, 16], [15, 18, 21, 24], [20, 24, 28, 32]]\n"
     ]
    }
   ],
   "source": [
    "# cartesian product of 2 lists:\n",
    "l1=[1,2,3,4]\n",
    "l2=[5,6,7,8]\n",
    "ans=[[i*j for i in l2] for j in l1]\n",
    "print(ans)"
   ]
  },
  {
   "cell_type": "markdown",
   "id": "ef827bf8-9b3c-4e1d-b443-cc53bbc97a1b",
   "metadata": {},
   "source": [
    "# Traversing a list"
   ]
  },
  {
   "cell_type": "code",
   "execution_count": 81,
   "id": "b9f40bfa-26bb-411e-b305-a714d760272c",
   "metadata": {},
   "outputs": [
    {
     "name": "stdout",
     "output_type": "stream",
     "text": [
      "10\n",
      "20\n",
      "30\n",
      "40\n",
      "50\n",
      "______________________________\n",
      "10\n",
      "20\n",
      "30\n",
      "40\n",
      "50\n"
     ]
    }
   ],
   "source": [
    "# itemwise:\n",
    "l=[10,20,30,40,50]\n",
    "for i in l:\n",
    "    print(i)\n",
    "\n",
    "\n",
    "print(30*\"_\")\n",
    "\n",
    "\n",
    "# indexwise:\n",
    "for i in range(0,len(l)):\n",
    "    print(l[i])"
   ]
  },
  {
   "cell_type": "markdown",
   "id": "9d3ddb5a-fd00-473b-b603-deb384bc767c",
   "metadata": {},
   "source": [
    "# Zip()"
   ]
  },
  {
   "cell_type": "code",
   "execution_count": 82,
   "id": "19636909-3044-4be0-918e-beb8257efa1f",
   "metadata": {},
   "outputs": [
    {
     "name": "stdout",
     "output_type": "stream",
     "text": [
      "[(1, -1), (2, -2), (3, -3), (4, -4)]\n"
     ]
    }
   ],
   "source": [
    "l1=[1,2,3,4]\n",
    "l2=[-1,-2,-3,-4]\n",
    "\n",
    "ans=list(zip(l1,l2))\n",
    "print(ans)"
   ]
  },
  {
   "cell_type": "code",
   "execution_count": 83,
   "id": "3e57ff0b-6555-402c-8d07-6ce7f5d002f8",
   "metadata": {},
   "outputs": [
    {
     "name": "stdout",
     "output_type": "stream",
     "text": [
      "[1, True, <built-in function print>, <class 'type'>, <bound method Kernel.raw_input of <ipykernel.ipkernel.IPythonKernel object at 0x000001D3AFB85E50>>]\n"
     ]
    }
   ],
   "source": [
    "# can store any kind of abject in list, weather a function or any object\n",
    "l=[1,True,print,type,input]\n",
    "print(l)"
   ]
  },
  {
   "cell_type": "markdown",
   "id": "39f4013c-6690-4d81-82e3-7659c6962b24",
   "metadata": {},
   "source": [
    "# Disadvantages of List"
   ]
  },
  {
   "cell_type": "code",
   "execution_count": 1,
   "id": "d34ed50d-298f-4584-bb91-216fa1f2ccee",
   "metadata": {},
   "outputs": [],
   "source": [
    "# Takes more memory\n",
    "# Slower\n",
    "# Risky usage because lists are mutable"
   ]
  },
  {
   "cell_type": "markdown",
   "id": "7f128593-372c-4056-936a-cd692f00615a",
   "metadata": {},
   "source": [
    "# Tuples"
   ]
  },
  {
   "cell_type": "code",
   "execution_count": 32,
   "id": "aa1e128c-10ce-4836-9824-b240f8d1f753",
   "metadata": {},
   "outputs": [],
   "source": [
    "# Similar to lists, tuples are immutable while lists \n",
    "# tuple are immutable lists\n",
    "# tuples are ordered, immutable and allows duplicate values.\n",
    "# tuples are faster than lists because immutable data types are faster.\n",
    "# tuples take less memory than lists with same number of elements\n",
    "# list has more functions than tuples\n",
    "# Tuples are less risky because of immutability.\n"
   ]
  },
  {
   "cell_type": "markdown",
   "id": "99dbed94-706e-4a1e-823c-fa2a8dd991f1",
   "metadata": {},
   "source": [
    "# Creating tuples"
   ]
  },
  {
   "cell_type": "code",
   "execution_count": 7,
   "id": "e7590fd7-b70f-438e-ba39-34fb80953f16",
   "metadata": {},
   "outputs": [
    {
     "name": "stdout",
     "output_type": "stream",
     "text": [
      "()\n",
      "(1,)\n",
      "(1, 2, 3, 4, 5)\n",
      "(1, True, 'Ayush', 1.44)\n",
      "(1, 2, 3, 4, (1, 2))\n",
      "('H', 'e', 'l', 'l', 'o')\n"
     ]
    }
   ],
   "source": [
    "# empty tuple\n",
    "t=()\n",
    "print(t)\n",
    "\n",
    "# tuple with single element\n",
    "t=(1,)\n",
    "print(t)\n",
    "\n",
    "# homogenous tuple\n",
    "t=(1,2,3,4,5)\n",
    "print(t)\n",
    "\n",
    "# heterogeneous tuple\n",
    "t=(1,True,\"Ayush\",1.44)\n",
    "print(t)\n",
    "\n",
    "# 2D tuple \n",
    "t=(1,2,3,4,(1,2))\n",
    "print(t)\n",
    "\n",
    "# using type conversion\n",
    "t=tuple(\"Hello\")\n",
    "print(t)"
   ]
  },
  {
   "cell_type": "markdown",
   "id": "124cb87a-06d1-4632-a34b-ce09eefae77d",
   "metadata": {},
   "source": [
    "# Accessing items"
   ]
  },
  {
   "cell_type": "code",
   "execution_count": 20,
   "id": "d3d75655-44c6-4e0a-b1fe-c15341f00d27",
   "metadata": {},
   "outputs": [
    {
     "name": "stdout",
     "output_type": "stream",
     "text": [
      "(1, 2, 3, 4, 5, (1, 2))\n",
      "1\n",
      "(1, 2)\n",
      "2\n",
      "(2, 3, 4)\n",
      "((1, 2), 5, 4)\n"
     ]
    }
   ],
   "source": [
    "t=(1,2,3,4,5,(1,2))\n",
    "\n",
    "print(t)\n",
    "print(t[0])\n",
    "print(t[-1])\n",
    "print(t[-1][1])\n",
    "print(t[1:4])\n",
    "print(t[-1:-4:-1])"
   ]
  },
  {
   "cell_type": "code",
   "execution_count": 13,
   "id": "8438ee61-7f92-4c7b-adac-5526fcb23d7e",
   "metadata": {},
   "outputs": [],
   "source": [
    "# editing is not possible\n",
    "# adding items is not possible"
   ]
  },
  {
   "cell_type": "markdown",
   "id": "26b8788f-ee10-40e0-b34d-2512cab5481e",
   "metadata": {},
   "source": [
    "# Deletion"
   ]
  },
  {
   "cell_type": "code",
   "execution_count": 15,
   "id": "6724dd04-bc82-4f04-af65-31455431e3dc",
   "metadata": {},
   "outputs": [
    {
     "name": "stdout",
     "output_type": "stream",
     "text": [
      "(1, 2, 3, 4)\n"
     ]
    },
    {
     "ename": "NameError",
     "evalue": "name 't' is not defined",
     "output_type": "error",
     "traceback": [
      "\u001b[1;31m---------------------------------------------------------------------------\u001b[0m",
      "\u001b[1;31mNameError\u001b[0m                                 Traceback (most recent call last)",
      "Cell \u001b[1;32mIn[15], line 5\u001b[0m\n\u001b[0;32m      3\u001b[0m \u001b[38;5;28mprint\u001b[39m(t)\n\u001b[0;32m      4\u001b[0m \u001b[38;5;28;01mdel\u001b[39;00m t\n\u001b[1;32m----> 5\u001b[0m \u001b[38;5;28mprint\u001b[39m(t)\n",
      "\u001b[1;31mNameError\u001b[0m: name 't' is not defined"
     ]
    }
   ],
   "source": [
    "# we can delete the whole tuple but cannot delete the values from the tuple (immutable)\n",
    "t=(1,2,3,4)\n",
    "print(t)\n",
    "del t # deletes whole tuple\n",
    "print(t)"
   ]
  },
  {
   "cell_type": "markdown",
   "id": "95319dcd-702b-4a47-871d-a10c177888f0",
   "metadata": {},
   "source": [
    "# Opetations on Tuples"
   ]
  },
  {
   "cell_type": "code",
   "execution_count": 24,
   "id": "9a11f992-a6df-420b-9d7a-48cf51760b91",
   "metadata": {},
   "outputs": [
    {
     "name": "stdout",
     "output_type": "stream",
     "text": [
      "(1, 2, 3, 5, 6, 7)\n",
      "(1, 2, 3, 1, 2, 3, 1, 2, 3)\n",
      "1\n",
      "2\n",
      "3\n"
     ]
    }
   ],
   "source": [
    "# Arithematic\n",
    "t1=(1,2,3)\n",
    "t2=(5,6,7)\n",
    "print(t1+t2)\n",
    "print(t1*3)\n",
    "for i in t1: print(i)"
   ]
  },
  {
   "cell_type": "markdown",
   "id": "5d91f2df-4d01-430c-8f48-ee46d6c0b40b",
   "metadata": {},
   "source": [
    "# Functions on Tuples"
   ]
  },
  {
   "cell_type": "code",
   "execution_count": 30,
   "id": "9cf44dae-6275-4770-a6b5-6879c3dbda2f",
   "metadata": {},
   "outputs": [
    {
     "name": "stdout",
     "output_type": "stream",
     "text": [
      "(1, 3, 2, 4, 6, 5)\n",
      "6\n",
      "6\n",
      "1\n",
      "[1, 2, 3, 4, 5, 6]\n",
      "[6, 5, 4, 3, 2, 1]\n",
      "1\n",
      "0\n"
     ]
    }
   ],
   "source": [
    "t=(1,3,2,4,6,5)\n",
    "print(t)\n",
    "print(len(t))\n",
    "print(max(t))\n",
    "print(min(t))\n",
    "print(sorted(t))\n",
    "print(sorted(t,reverse=True))\n",
    "\n",
    "print(t.count(4))\n",
    "print(t.index(1))"
   ]
  },
  {
   "cell_type": "markdown",
   "id": "145316d7-2a23-464b-abd5-55254f1b152c",
   "metadata": {},
   "source": [
    "# Special Syntaxes in Tuples"
   ]
  },
  {
   "cell_type": "code",
   "execution_count": 37,
   "id": "56b95956-84ad-42c5-8810-b2101aed1d7b",
   "metadata": {},
   "outputs": [
    {
     "name": "stdout",
     "output_type": "stream",
     "text": [
      "1 2 3\n",
      "1 2 3\n",
      "[3, 4, 5]\n"
     ]
    }
   ],
   "source": [
    "# tuple unpacking\n",
    "a,b,c=(1,2,3)\n",
    "print(a,b,c)\n",
    "\n",
    "a,b,*others=(1,2,3,4,5,)\n",
    "print(a,b,c)\n",
    "print(others)"
   ]
  },
  {
   "cell_type": "code",
   "execution_count": 36,
   "id": "44c98bc9-3514-467d-a08b-5cd43f0abc9b",
   "metadata": {},
   "outputs": [
    {
     "name": "stdout",
     "output_type": "stream",
     "text": [
      "Before: 2 4\n",
      "After: 4 2\n"
     ]
    }
   ],
   "source": [
    "# swapping of two numbers\n",
    "a=2\n",
    "b=4\n",
    "print(\"Before:\",a,b)\n",
    "a,b=b,a\n",
    "print(\"After:\",a,b)"
   ]
  },
  {
   "cell_type": "code",
   "execution_count": 41,
   "id": "ba4c3af4-1d02-4907-8429-da8271d938f6",
   "metadata": {},
   "outputs": [
    {
     "name": "stdout",
     "output_type": "stream",
     "text": [
      "<zip object at 0x0000022673168A80>\n",
      "[(1, 4), (2, 5), (3, 6)]\n",
      "((1, 4), (2, 5), (3, 6))\n"
     ]
    }
   ],
   "source": [
    "# Zip() function = creates mapping bw 2 data types\n",
    "a=(1,2,3)\n",
    "b=(4,5,6)\n",
    "print(zip(a,b))\n",
    "print(list(zip(a,b)))\n",
    "print(tuple(zip(a,b)))"
   ]
  },
  {
   "cell_type": "markdown",
   "id": "d4689ac8-6c7d-4ead-897b-be6436b94aec",
   "metadata": {},
   "source": [
    "# Sets"
   ]
  },
  {
   "cell_type": "code",
   "execution_count": 42,
   "id": "598f0602-defa-4d0f-9109-3cfdad203a48",
   "metadata": {},
   "outputs": [],
   "source": [
    "# unordered collection of items\n",
    "# only unique elements and stores only immutable items\n",
    "# set itself is mutable\n",
    "# 2D sets is impossible"
   ]
  },
  {
   "cell_type": "markdown",
   "id": "6ac1e4c5-4743-4d93-99d4-79cba47a170e",
   "metadata": {},
   "source": [
    "# Creation of Sets"
   ]
  },
  {
   "cell_type": "code",
   "execution_count": 60,
   "id": "a44a83b8-62a9-49ab-af3e-9e4d946891e2",
   "metadata": {},
   "outputs": [
    {
     "name": "stdout",
     "output_type": "stream",
     "text": [
      "{}\n",
      "<class 'dict'>\n",
      "set()\n",
      "<class 'set'>\n",
      "{1, 2, 3}\n",
      "{1, 2, 3, 4, 5}\n",
      "{1, 2.44, 'Hello'}\n",
      "{1, 2, 3, 4, 5}\n",
      "True\n"
     ]
    }
   ],
   "source": [
    "# empty set\n",
    "s={}\n",
    "print(s)\n",
    "print(type(s))\n",
    "\n",
    "s=set()\n",
    "print(s)\n",
    "print(type(s))\n",
    "\n",
    "# 1D set\n",
    "s={1,2,3}\n",
    "print(s)\n",
    "\n",
    "# 2D sets are not possible\n",
    "# s={1,2,3,4,5,{1,2}} # error\n",
    "\n",
    "# homogenous sets\n",
    "s={1,2,3,4,5}\n",
    "print(s)\n",
    "\n",
    "# heterogenous sets\n",
    "s={1,2.44,True,\"Hello\"} # true and 1 are treated as same, hence only unique values\n",
    "print(s)\n",
    "\n",
    "# using type conversion\n",
    "s=set([1,2,3,4,5])\n",
    "print(s)\n",
    "\n",
    "s1={1,3,2}\n",
    "s2={1,2,3}\n",
    "print(s1==s2) # order doesn't matter"
   ]
  },
  {
   "cell_type": "code",
   "execution_count": 61,
   "id": "4cff8744-6a22-47f8-b23c-3df2fd601bcd",
   "metadata": {},
   "outputs": [],
   "source": [
    "# Accessing items is not allowed beacuse it is unordered"
   ]
  },
  {
   "cell_type": "code",
   "execution_count": 62,
   "id": "71a56b7d-e4ab-4750-8c4c-736457c68bbc",
   "metadata": {},
   "outputs": [],
   "source": [
    "# editing not works because indexing not allowed beacuse sets are unordered"
   ]
  },
  {
   "cell_type": "code",
   "execution_count": 65,
   "id": "5dc3c7bd-577e-46b6-9332-98f03cd072a6",
   "metadata": {},
   "outputs": [
    {
     "name": "stdout",
     "output_type": "stream",
     "text": [
      "{1, 2, 3, 45}\n",
      "{1, 2, 3, 4, 5, 6, 7}\n"
     ]
    }
   ],
   "source": [
    "# adding items in set\n",
    "s={1,2,3}\n",
    "s.add(45)\n",
    "print(s)\n",
    "\n",
    "# update = add multiple items to set\n",
    "s={1,2,3}\n",
    "s.update([4,5,6,7])\n",
    "print(s)"
   ]
  },
  {
   "cell_type": "markdown",
   "id": "6f894c12-57b4-46a9-a5a0-027e039a5173",
   "metadata": {},
   "source": [
    "# Deleting items"
   ]
  },
  {
   "cell_type": "code",
   "execution_count": 77,
   "id": "c52304c1-e4a3-48a9-a8ad-08ced88c7a09",
   "metadata": {},
   "outputs": [
    {
     "name": "stdout",
     "output_type": "stream",
     "text": [
      "{1, 2, 3, 4}\n",
      "{1, 2, 4, 5}\n",
      "{1, 4, 5}\n",
      "{2, 3, 4, 5}\n",
      "set()\n"
     ]
    }
   ],
   "source": [
    "# del = deletes the set\n",
    "s={1,2,3,4}\n",
    "print(s)\n",
    "del s\n",
    "\n",
    "# discard = deletes single item from the set with given value, not gives error is element is not found\n",
    "s={1,2,3,4,5}\n",
    "s.discard(3)\n",
    "print(s)\n",
    "\n",
    "# remove = same as discard but gives error if element is not found\n",
    "s.remove(2)\n",
    "print(s)\n",
    "\n",
    "# pop =  randomly deletes any item\n",
    "s={1,2,3,4,5}\n",
    "s.pop()\n",
    "print(s)\n",
    "\n",
    "# clear = deletes all items from the set, makes the set empty\n",
    "s.clear()\n",
    "print(s)"
   ]
  },
  {
   "cell_type": "markdown",
   "id": "23ab4cf3-7bf3-4d5a-a959-a23b8de97e8a",
   "metadata": {},
   "source": [
    "# Operations on sets"
   ]
  },
  {
   "cell_type": "code",
   "execution_count": 95,
   "id": "81b3823b-2b2e-470c-8138-c54d217734da",
   "metadata": {},
   "outputs": [
    {
     "name": "stdout",
     "output_type": "stream",
     "text": [
      "{1, 2, 3, 4, 5, 6, 7, 8, 9}\n",
      "{1, 2, 3, 4, 5, 6, 7, 8, 9}\n",
      "{4, 5, 6}\n",
      "{4, 5, 6}\n",
      "{1, 2, 3}\n",
      "{8, 9, 7}\n",
      "{1, 2, 3, 7, 8, 9}\n",
      "True\n",
      "False\n",
      "1\n",
      "2\n",
      "3\n",
      "4\n",
      "5\n"
     ]
    }
   ],
   "source": [
    "s1={1,2,3,4,5,6}\n",
    "s2={4,5,6,7,8,9}\n",
    "s1.\n",
    "# union = sll values\n",
    "print(s1 | s2)\n",
    "print(s1.union(s2))\n",
    "\n",
    "# intersection = commom values\n",
    "print(s1 & s2)\n",
    "print(s1.intersection(s2))\n",
    "\n",
    "# difference\n",
    "print(s1 - s2)\n",
    "\n",
    "# difference\n",
    "print(s2 - s1)\n",
    "\n",
    "# symmetric difference = removes common values\n",
    "print(s1 ^ s2)\n",
    "\n",
    "# membership operators\n",
    "print(1 in {1,2,3,4})\n",
    "print(2 not in {1,2,3,4})\n",
    "\n",
    "# iteration\n",
    "s={1,2,3,4,5}\n",
    "for i in s:\n",
    "    print(i)"
   ]
  },
  {
   "cell_type": "markdown",
   "id": "e88c227e-4f5d-451d-a80c-6206cc07abb7",
   "metadata": {},
   "source": [
    "# Set Functions"
   ]
  },
  {
   "cell_type": "code",
   "execution_count": 88,
   "id": "196c989e-2bab-4fc1-b255-17d0dbeed471",
   "metadata": {},
   "outputs": [
    {
     "name": "stdout",
     "output_type": "stream",
     "text": [
      "{1, 2, 3, 4, 5, 6}\n",
      "6\n",
      "6\n",
      "1\n",
      "[1, 2, 3, 4, 5, 6]\n",
      "[6, 5, 4, 3, 2, 1]\n"
     ]
    },
    {
     "ename": "AttributeError",
     "evalue": "'set' object has no attribute 'count'",
     "output_type": "error",
     "traceback": [
      "\u001b[1;31m---------------------------------------------------------------------------\u001b[0m",
      "\u001b[1;31mAttributeError\u001b[0m                            Traceback (most recent call last)",
      "Cell \u001b[1;32mIn[88], line 9\u001b[0m\n\u001b[0;32m      6\u001b[0m \u001b[38;5;28mprint\u001b[39m(\u001b[38;5;28msorted\u001b[39m(s))\n\u001b[0;32m      7\u001b[0m \u001b[38;5;28mprint\u001b[39m(\u001b[38;5;28msorted\u001b[39m(s,reverse\u001b[38;5;241m=\u001b[39m\u001b[38;5;28;01mTrue\u001b[39;00m))\n\u001b[1;32m----> 9\u001b[0m \u001b[38;5;28mprint\u001b[39m(s\u001b[38;5;241m.\u001b[39mcount(\u001b[38;5;241m4\u001b[39m))\n\u001b[0;32m     10\u001b[0m \u001b[38;5;28mprint\u001b[39m(s\u001b[38;5;241m.\u001b[39mindex(\u001b[38;5;241m1\u001b[39m))\n",
      "\u001b[1;31mAttributeError\u001b[0m: 'set' object has no attribute 'count'"
     ]
    }
   ],
   "source": [
    "s={1,3,2,4,6,5}\n",
    "print(s)\n",
    "print(len(s))\n",
    "print(max(s))\n",
    "print(min(s))\n",
    "print(sorted(s))\n",
    "print(sorted(s,reverse=True))"
   ]
  },
  {
   "cell_type": "code",
   "execution_count": 98,
   "id": "529447d8-6fc1-46b7-a90a-cb21b08a0efb",
   "metadata": {},
   "outputs": [
    {
     "name": "stdout",
     "output_type": "stream",
     "text": [
      "{1, 2, 3, 4, 5, 6, 7, 8, 9}\n",
      "{4, 5, 6, 7, 8, 9}\n",
      "{4, 5, 6}\n",
      "{4, 5, 6, 7, 8, 9}\n",
      "{1, 2, 3}\n",
      "{4, 5, 6, 7, 8, 9}\n",
      "{1, 2, 3, 7, 8, 9}\n",
      "{4, 5, 6, 7, 8, 9}\n"
     ]
    }
   ],
   "source": [
    "# union_update() or update()\n",
    "s1={1,2,3,4,5,6}\n",
    "s2={4,5,6,7,8,9}\n",
    "s1.update(s2)\n",
    "print(s1)\n",
    "print(s2)\n",
    "\n",
    "# intersection update\n",
    "s1={1,2,3,4,5,6}\n",
    "s2={4,5,6,7,8,9}\n",
    "s1.intersection_update(s2)\n",
    "print(s1)\n",
    "print(s2)\n",
    "\n",
    "# difference update\n",
    "s1={1,2,3,4,5,6}\n",
    "s2={4,5,6,7,8,9}\n",
    "s1.difference_update(s2)\n",
    "print(s1)\n",
    "print(s2)\n",
    "\n",
    "# symmetric difference update\n",
    "s1={1,2,3,4,5,6}\n",
    "s2={4,5,6,7,8,9}\n",
    "s1.symmetric_difference_update(s2)\n",
    "print(s1)\n",
    "print(s2)"
   ]
  },
  {
   "cell_type": "markdown",
   "id": "c86831b0-afaa-47a3-a167-928ae1eb9762",
   "metadata": {},
   "source": [
    "# Other Functions"
   ]
  },
  {
   "cell_type": "code",
   "execution_count": 104,
   "id": "b62e79d7-c18f-492a-aa0a-b522e5f6740f",
   "metadata": {},
   "outputs": [
    {
     "name": "stdout",
     "output_type": "stream",
     "text": [
      "False\n",
      "True\n",
      "True\n"
     ]
    }
   ],
   "source": [
    "s1={1,2,3}\n",
    "s2={1,2,3,7,8,9}\n",
    "\n",
    "# isdisjoint() = True if no commmon items in two given sets\n",
    "print(s1.isdisjoint(s2))\n",
    "\n",
    "# issubset() = checks that s2 is a subset of s1\n",
    "print(s1.issubset(s2))\n",
    "\n",
    "# issuperset() = checks that s2 is a superset of s1\n",
    "print(s2.issuperset(s1))"
   ]
  },
  {
   "cell_type": "code",
   "execution_count": 105,
   "id": "860a28c5-b897-433e-be2c-d285b6c4821e",
   "metadata": {},
   "outputs": [
    {
     "name": "stdout",
     "output_type": "stream",
     "text": [
      "{1, 2, 3, 4, 5}\n",
      "{1, 2, 3, 4, 5}\n"
     ]
    }
   ],
   "source": [
    "# copy() = creates a copy of set\n",
    "s1={1,2,3,4,5}\n",
    "s2=s1.copy()\n",
    "print(s1)\n",
    "print(s2)"
   ]
  },
  {
   "cell_type": "markdown",
   "id": "50d6d970-a8bc-41d8-854b-7ad179e72367",
   "metadata": {},
   "source": [
    "# Frozen Set"
   ]
  },
  {
   "cell_type": "code",
   "execution_count": 110,
   "id": "77fc8029-0c33-4797-9c0a-a55875a08dd6",
   "metadata": {},
   "outputs": [
    {
     "name": "stdout",
     "output_type": "stream",
     "text": [
      "frozenset({1, 2, 3, 4, 5})\n",
      "frozenset({1, 2, 3, 4, 5, (1, 2, 3, 4)})\n"
     ]
    }
   ],
   "source": [
    "# like set but immutable\n",
    "\n",
    "fs=frozenset([1,2,3,4,5])\n",
    "print(fs)\n",
    "\n",
    "# all operations of set are possible in frozenSet also except those which changes sets.\n",
    "\n",
    "# 2D FrozenSet\n",
    "fs=frozenset([1,2,3,4,5,(1,2,3,4)])\n",
    "print(fs)\n"
   ]
  },
  {
   "cell_type": "markdown",
   "id": "86b589ce-d25b-41c8-83f0-090750e8e9db",
   "metadata": {},
   "source": [
    "# Set Comprehension "
   ]
  },
  {
   "cell_type": "code",
   "execution_count": 112,
   "id": "1a4f1260-fb1b-4fc0-a3a1-530baaeb0e2a",
   "metadata": {},
   "outputs": [
    {
     "name": "stdout",
     "output_type": "stream",
     "text": [
      "{1, 2, 3, 4, 5, 6, 7, 8, 9, 10}\n"
     ]
    }
   ],
   "source": [
    "# same as lists\n",
    "s={i for i in range(1,11)}\n",
    "print(s)"
   ]
  },
  {
   "cell_type": "markdown",
   "id": "bce402e1-faab-422d-b0b5-dccd2bc1ce00",
   "metadata": {},
   "source": [
    "# Dictionary "
   ]
  },
  {
   "cell_type": "code",
   "execution_count": 113,
   "id": "fb991f59-755d-43e0-9233-f45d64bd885a",
   "metadata": {},
   "outputs": [],
   "source": [
    "# stores key:value pair, like maps in c++\n",
    "# they are mutable\n",
    "# no meaning indexing\n",
    "# keys should se unique\n",
    "# keys can't be mutable"
   ]
  },
  {
   "cell_type": "markdown",
   "id": "4926be29-501e-4f3d-a822-1add199ce060",
   "metadata": {},
   "source": [
    "# Creating Dictionary"
   ]
  },
  {
   "cell_type": "code",
   "execution_count": 128,
   "id": "797c7275-c209-4da9-8dc6-d235faf35670",
   "metadata": {},
   "outputs": [
    {
     "name": "stdout",
     "output_type": "stream",
     "text": [
      "{}\n",
      "<class 'dict'>\n",
      "{'Name': 'Ayush', 'Address': 'kaladhungi', 'Age': 12}\n",
      "{(1, 2, 3): 'Ayush', 'Address': 'kaladhungi', 'Age': 12}\n",
      "{'name': 'Ayush', 'Course': 'BTech', 'Subkects': {'dsa': 23, 'cbnst': 32, 'dbms': 32}}\n",
      "{(1, 2, 3): 'Ayush', 'Address': 'kaladhungi', 'Age': 12}\n",
      "{'Name': 'Joshi'}\n"
     ]
    }
   ],
   "source": [
    " # empty dictionary\n",
    "d={}\n",
    "print(d)\n",
    "print(type(d))\n",
    "\n",
    "# 1D Dictionary\n",
    "d={\"Name\":\"Ayush\",\"Address\":\"kaladhungi\",\"Age\":12}\n",
    "print(d)\n",
    "\n",
    "# dict with mixed keys\n",
    "d={(1,2,3):\"Ayush\",\"Address\":\"kaladhungi\",\"Age\":12}\n",
    "print(d)\n",
    "\n",
    "# 2D Dictionary , JSON follows 2D dictionary format\n",
    "dict={\n",
    "    \"name\":\"Ayush\",\n",
    "    \"Course\":\"BTech\",\n",
    "    \"Subkects\": {\n",
    "        \"dsa\":23,\n",
    "        \"cbnst\":32,\n",
    "        \"dbms\":32\n",
    "    }\n",
    "}\n",
    "print(dict)\n",
    "\n",
    "# using sequence and dictionary\n",
    "# d=dict([(\"name\",\"ayush\"),(\"Semester\",\"3\"),(\"Course\",\"BTech\")])\n",
    "print(d)\n",
    "\n",
    "# keys should be unique\n",
    "d={\"Name\":\"Ayush\",\"Name\":\"Joshi\"}\n",
    "print(d) # gives the last updated values"
   ]
  },
  {
   "cell_type": "markdown",
   "id": "00eaa0ea-bd86-4ac7-a358-a72323fdec62",
   "metadata": {},
   "source": [
    "# Accessing Items"
   ]
  },
  {
   "cell_type": "code",
   "execution_count": 145,
   "id": "9b1a457a-a806-446f-bd47-0e2c7b406a26",
   "metadata": {},
   "outputs": [
    {
     "name": "stdout",
     "output_type": "stream",
     "text": [
      "Ayush\n",
      "Ayush\n",
      "{'name': 'Ayush', 'Course': 'BTech', 'Subjects': {'dsa': 23, 'cbnst': 32, 'dbms': 32}}\n",
      "32\n"
     ]
    }
   ],
   "source": [
    "d={\"Name\":\"Ayush\",\"Address\":\"kaladhungi\",\"Age\":12}\n",
    "print(d[\"Name\"])\n",
    "print(d.get(\"Name\"))\n",
    "\n",
    "\n",
    "dict={\n",
    "    \"name\":\"Ayush\",\n",
    "    \"Course\":\"BTech\",\n",
    "    \"Subjects\": {\n",
    "        \"dsa\":23,\n",
    "        \"cbnst\":32,\n",
    "        \"dbms\":32\n",
    "    }\n",
    "}\n",
    "print(dict)\n",
    "print(dict[\"Subjects\"][\"dbms\"])"
   ]
  },
  {
   "cell_type": "markdown",
   "id": "158dc68f-d8f1-40ac-bbc2-d65c396b8b42",
   "metadata": {},
   "source": [
    "# Adding Key:Valaue pairs"
   ]
  },
  {
   "cell_type": "code",
   "execution_count": 134,
   "id": "29ecc0c6-68ce-4c70-ac5f-272628deb17f",
   "metadata": {},
   "outputs": [
    {
     "name": "stdout",
     "output_type": "stream",
     "text": [
      "{'Name': 'Ayush', 'Address': 'kaladhungi', 'Age': 12, 'Gender': 'Male'}\n",
      "{'Name': 'Ayush', 'Address': 'kaladhungi', 'Age': 12, 'Gender': 'Male', 'Height': '172 cm'}\n"
     ]
    }
   ],
   "source": [
    "d={\"Name\":\"Ayush\",\"Address\":\"kaladhungi\",\"Age\":12}\n",
    "d[\"Gender\"]=\"Male\"\n",
    "print(d)\n",
    "d[\"Height\"]=\"172 cm\"\n",
    "print(d)"
   ]
  },
  {
   "cell_type": "markdown",
   "id": "a01aa452-baa3-4971-a004-3ed6fb37d23f",
   "metadata": {},
   "source": [
    "# Removing Key:Value pairs"
   ]
  },
  {
   "cell_type": "code",
   "execution_count": 147,
   "id": "2cb0f6eb-aaa7-4176-ab75-80192d500024",
   "metadata": {},
   "outputs": [
    {
     "name": "stdout",
     "output_type": "stream",
     "text": [
      "{'Name': 'Ayush', 'Address': 'kaladhungi', 'Age': 12}\n",
      "{'Name': 'Ayush', 'Address': 'kaladhungi'}\n",
      "{'Name': 'Ayush', 'Address': 'kaladhungi', 'Age': 12}\n",
      "{'Name': 'Ayush', 'Address': 'kaladhungi'}\n",
      "{'Name': 'Ayush', 'Address': 'kaladhungi', 'Age': 12}\n",
      "{'Name': 'Ayush', 'Address': 'kaladhungi', 'Age': 12}\n",
      "{}\n"
     ]
    }
   ],
   "source": [
    "# pop(key) = deletes the entry corresponding to key\n",
    "d={\"Name\":\"Ayush\",\"Address\":\"kaladhungi\",\"Age\":12}\n",
    "print(d)\n",
    "d.pop(\"Age\")\n",
    "print(d)\n",
    "\n",
    "# pop_item() = deletes last key:value pair\n",
    "d={\"Name\":\"Ayush\",\"Address\":\"kaladhungi\",\"Age\":12}\n",
    "print(d)\n",
    "d.popitem()\n",
    "print(d)\n",
    "\n",
    "# del() = deletes whole dictionary \n",
    "d={\"Name\":\"Ayush\",\"Address\":\"kaladhungi\",\"Age\":12}\n",
    "print(d)\n",
    "del d[\"Age\"] # deletes specific key:value pair\n",
    "del d\n",
    "\n",
    "# clear = deletes all key:value pairs from the dictionary \n",
    "d={\"Name\":\"Ayush\",\"Address\":\"kaladhungi\",\"Age\":12}\n",
    "print(d)\n",
    "d.clear()\n",
    "print(d)\n",
    "\n"
   ]
  },
  {
   "cell_type": "markdown",
   "id": "f0fe7e45-de36-444f-beb7-06235d3e9a2b",
   "metadata": {},
   "source": [
    "# Editing Key:Value pairs"
   ]
  },
  {
   "cell_type": "code",
   "execution_count": 148,
   "id": "7a63dbc5-4f60-4397-a150-984c2142eb8f",
   "metadata": {},
   "outputs": [
    {
     "name": "stdout",
     "output_type": "stream",
     "text": [
      "{'Name': 'Ayush', 'Address': 'kaladhungi', 'Age': 12}\n",
      "{'Name': 'Ayush', 'Address': 'Bhowali', 'Age': 12}\n"
     ]
    }
   ],
   "source": [
    "d={\"Name\":\"Ayush\",\"Address\":\"kaladhungi\",\"Age\":12}\n",
    "print(d)\n",
    "d[\"Address\"]=\"Bhowali\"\n",
    "print(d)"
   ]
  },
  {
   "cell_type": "markdown",
   "id": "58c38875-3f66-49b2-9c04-d80a308d4399",
   "metadata": {},
   "source": [
    "# Operations on Dictionary"
   ]
  },
  {
   "cell_type": "code",
   "execution_count": 153,
   "id": "5103df09-d4f9-4c11-851d-b174bf6efc22",
   "metadata": {},
   "outputs": [
    {
     "name": "stdout",
     "output_type": "stream",
     "text": [
      "True\n",
      "False\n",
      "Name : Ayush\n",
      "Address : kaladhungi\n",
      "Age : 12\n"
     ]
    }
   ],
   "source": [
    "# membership operator = searches for key\n",
    "d={\"Name\":\"Ayush\",\"Address\":\"kaladhungi\",\"Age\":12}\n",
    "print(\"Age\" in d) # searches kry\n",
    "print(\"Ayush\" in d) # searches kry\n",
    "\n",
    "for i in d:\n",
    "    print(i,\":\",d[i])\n"
   ]
  },
  {
   "cell_type": "code",
   "execution_count": 159,
   "id": "787b945f-ad26-4eb0-8b57-e6a1fc30cbf1",
   "metadata": {},
   "outputs": [
    {
     "name": "stdout",
     "output_type": "stream",
     "text": [
      "3\n",
      "['Address', 'Age', 'Name']\n",
      "['Name', 'Age', 'Address']\n",
      "Name\n"
     ]
    }
   ],
   "source": [
    "d={\"Name\":\"Ayush\",\"Address\":\"kaladhungi\",\"Age\":12}\n",
    "print(len(d))\n",
    "print(sorted(d)) # ascii based\n",
    "print(sorted(d,reverse=True)) # ascii based\n",
    "print(max(d)) # based on ascii"
   ]
  },
  {
   "cell_type": "code",
   "execution_count": 161,
   "id": "b01f1876-9b76-4b42-972e-71de4103af00",
   "metadata": {},
   "outputs": [
    {
     "name": "stdout",
     "output_type": "stream",
     "text": [
      "dict_items([('Name', 'Ayush'), ('Address', 'kaladhungi'), ('Age', 12)])\n",
      "dict_keys(['Name', 'Address', 'Age'])\n",
      "dict_values(['Ayush', 'kaladhungi', 12])\n"
     ]
    }
   ],
   "source": [
    "d={\"Name\":\"Ayush\",\"Address\":\"kaladhungi\",\"Age\":12}\n",
    "print(d.items()) # all pairs\n",
    "print(d.keys()) # all keys\n",
    "print(d.values()) # all values"
   ]
  },
  {
   "cell_type": "code",
   "execution_count": 164,
   "id": "b4c6e0e6-0c84-47de-909c-c8d17ca51ba6",
   "metadata": {},
   "outputs": [
    {
     "name": "stdout",
     "output_type": "stream",
     "text": [
      "{1: 2, 3: 4, 4: 5}\n",
      "{1: 2, 3: 4, 4: 10, 5: 32}\n"
     ]
    }
   ],
   "source": [
    "# update\n",
    "d1={1:2,3:4,4:5}\n",
    "d2={4:10,5:32}\n",
    "print(d1)\n",
    "d1.update(d2)\n",
    "print(d1)"
   ]
  },
  {
   "cell_type": "markdown",
   "id": "a8a59409-39f6-4033-8fd4-37131c96ed02",
   "metadata": {},
   "source": [
    "# Dictionary Comprehension"
   ]
  },
  {
   "cell_type": "code",
   "execution_count": 170,
   "id": "5cf2861f-a983-418f-92b5-18789412cb48",
   "metadata": {},
   "outputs": [
    {
     "name": "stdout",
     "output_type": "stream",
     "text": [
      "{1: 1, 2: 4, 3: 9, 4: 16, 5: 25, 6: 36, 7: 49, 8: 64, 9: 81, 10: 100}\n",
      "{'delhi': 1000, 'haldwani': 2000, 'kaladhungi': 3000}\n",
      "{'delhi': 2000, 'haldwani': 4000, 'kaladhungi': 6000}\n",
      "{'Sunday': 0, 'Monday': 1, 'Tuesday': 2, 'Wednesday': 3, 'Thursday': 4}\n"
     ]
    }
   ],
   "source": [
    "# dict with key as n and values as number ka square\n",
    "d={i:i**2 for i in range(1,11)}\n",
    "print(d)\n",
    "\n",
    "# using existing dictionary\n",
    "d={\"delhi\":1000,\"haldwani\":2000,\"kaladhungi\":3000}\n",
    "print(d)\n",
    "dict={key:value*2 for (key,value) in d.items()}\n",
    "print(dict)\n",
    "\n",
    "# using zip()\n",
    "keys=[\"Sunday\",\"Monday\",\"Tuesday\",\"Wednesday\",\"Thursday\"]\n",
    "values=[0,1,2,3,4]\n",
    "d={i:j for (i,j) in zip(keys,values)}\n",
    "print(d)"
   ]
  },
  {
   "cell_type": "code",
   "execution_count": 174,
   "id": "00340348-b67d-45a8-8aff-79fe2670c91a",
   "metadata": {},
   "outputs": [
    {
     "name": "stdout",
     "output_type": "stream",
     "text": [
      "{'Laptop': 10, 'Phones': 32, 'Headphones': 43}\n"
     ]
    }
   ],
   "source": [
    "products={\"Laptop\":10,\"Charger\":0,\"Phones\":32,\"Headphones\":43}\n",
    "d={key:value for (key,value) in products.items() if value>0}\n",
    "print(d)"
   ]
  },
  {
   "cell_type": "markdown",
   "id": "0bb432ba-29eb-4103-b4d9-7a8dc1010e15",
   "metadata": {},
   "source": [
    "# Nested Comprehension"
   ]
  },
  {
   "cell_type": "code",
   "execution_count": 176,
   "id": "430356ab-5f29-45dd-89da-9e9f41e937bf",
   "metadata": {},
   "outputs": [
    {
     "name": "stdout",
     "output_type": "stream",
     "text": [
      "{2: {1: 2, 2: 4, 3: 6}, 3: {1: 3, 2: 6, 3: 9}, 4: {1: 4, 2: 8, 3: 12}}\n"
     ]
    }
   ],
   "source": [
    "dict={\n",
    "    2:{1:2,2:4,3:6},\n",
    "    3:{1:3,2:6,3:9},\n",
    "    4:{1:4,2:8,3:12},\n",
    "}\n",
    "print(dict)"
   ]
  },
  {
   "cell_type": "code",
   "execution_count": 183,
   "id": "d323b1aa-027c-45c2-8433-ee12a40c689b",
   "metadata": {},
   "outputs": [
    {
     "name": "stdout",
     "output_type": "stream",
     "text": [
      "2 --> {1: 2, 2: 4, 3: 6, 4: 8, 5: 10, 6: 12, 7: 14, 8: 16, 9: 18, 10: 20}\n",
      "3 --> {1: 3, 2: 6, 3: 9, 4: 12, 5: 15, 6: 18, 7: 21, 8: 24, 9: 27, 10: 30}\n",
      "4 --> {1: 4, 2: 8, 3: 12, 4: 16, 5: 20, 6: 24, 7: 28, 8: 32, 9: 36, 10: 40}\n"
     ]
    }
   ],
   "source": [
    "# print tables from 2 to 10\n",
    "dict={i:{j:i*j for j in range(1,11)} for i in range(2,5)}\n",
    "for i in dict:\n",
    "    print(i,\"-->\",dict[i])"
   ]
  },
  {
   "cell_type": "code",
   "execution_count": null,
   "id": "aaaec18d-4dc3-48e5-bf00-7ea456b10185",
   "metadata": {},
   "outputs": [],
   "source": []
  }
 ],
 "metadata": {
  "kernelspec": {
   "display_name": "Python 3 (ipykernel)",
   "language": "python",
   "name": "python3"
  },
  "language_info": {
   "codemirror_mode": {
    "name": "ipython",
    "version": 3
   },
   "file_extension": ".py",
   "mimetype": "text/x-python",
   "name": "python",
   "nbconvert_exporter": "python",
   "pygments_lexer": "ipython3",
   "version": "3.11.7"
  }
 },
 "nbformat": 4,
 "nbformat_minor": 5
}
