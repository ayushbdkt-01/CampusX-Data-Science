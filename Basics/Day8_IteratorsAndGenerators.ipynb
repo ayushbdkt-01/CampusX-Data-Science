{
 "cells": [
  {
   "cell_type": "markdown",
   "id": "fda28946-8067-4764-b369-be51b51a826b",
   "metadata": {},
   "source": [
    "# Iterators"
   ]
  },
  {
   "cell_type": "code",
   "execution_count": 1,
   "id": "2f714c32-e7f5-4d2d-96ed-6e1148487ca6",
   "metadata": {},
   "outputs": [
    {
     "name": "stdout",
     "output_type": "stream",
     "text": [
      "1\n",
      "2\n",
      "3\n",
      "4\n",
      "5\n",
      "6\n",
      "7\n",
      "8\n",
      "9\n",
      "10\n"
     ]
    }
   ],
   "source": [
    "# Iteration = Taking each item in a series using a loop\n",
    "for i in range(1,11): print(i)"
   ]
  },
  {
   "cell_type": "code",
   "execution_count": 12,
   "id": "41cf98a7-2332-4cc4-b3fe-da1eeb04cbbb",
   "metadata": {},
   "outputs": [
    {
     "name": "stdout",
     "output_type": "stream",
     "text": [
      "2 4 6 8 10 12 14 16 18 20 22 24 26 28 30 32 34 36 38 40 42 44 46 48 50 52 54 56 58 60 62 64 66 68 70 72 74 76 78 80 82 84 86 88 90 92 94 96 98 100 102 104 106 108 110 112 114 116 118 120 122 124 126 128 130 132 134 136 138 140 142 144 146 148 150 152 154 156 158 160 162 164 166 168 170 172 174 176 178 180 182 184 186 188 190 192 194 196 198 200 \n",
      "\n",
      "2 4 6 8 10 12 14 16 18 20 22 24 26 28 30 32 34 36 38 40 42 44 46 48 50 52 54 56 58 60 62 64 66 68 70 72 74 76 78 80 82 84 86 88 90 92 94 96 98 100 102 104 106 108 110 112 114 116 118 120 122 124 126 128 130 132 134 136 138 140 142 144 146 148 150 152 154 156 158 160 162 164 166 168 170 172 174 176 178 180 182 184 186 188 190 192 194 196 198 200 \n",
      "Size of list: 920\n",
      "Size of iterator: 48\n"
     ]
    }
   ],
   "source": [
    "# Iterator = An python object which allows user to traverse through the ssequence of data without loading whole daata to memory\n",
    "# saves memory\n",
    "\n",
    "l=[i for i in range(1,101)]\n",
    "for i in l : print(i*2,end=' ')\n",
    "\n",
    "print()\n",
    "print()\n",
    "\n",
    "x=range(1,101)\n",
    "for i in x: print(i*2,end=' ')\n",
    "print()\n",
    "import sys\n",
    "print(\"Size of list:\",sys.getsizeof(l))\n",
    "print(\"Size of iterator:\",sys.getsizeof(x))\n",
    "# that's the difference bw the memory used by list and iterator"
   ]
  },
  {
   "cell_type": "markdown",
   "id": "8d8beb51-cbad-47cc-bb53-39860d7e67e0",
   "metadata": {},
   "source": [
    "# Iterable"
   ]
  },
  {
   "cell_type": "code",
   "execution_count": 15,
   "id": "76783de2-c992-4416-928f-9ab3626defb6",
   "metadata": {},
   "outputs": [
    {
     "name": "stdout",
     "output_type": "stream",
     "text": [
      "<class 'list'>\n",
      "<class 'list_iterator'>\n"
     ]
    }
   ],
   "source": [
    "# iterable is an object on which we can iterate or tarverse by loop\n",
    "# it generates an iterator when passed to iter() method\n",
    "l=[1,2,3,4]\n",
    "print(type(l))\n",
    "print(type(iter(l)))"
   ]
  },
  {
   "cell_type": "markdown",
   "id": "91d4b2b3-d63b-4843-8fb2-7b75c0afaf12",
   "metadata": {},
   "source": [
    "# Generators"
   ]
  },
  {
   "cell_type": "code",
   "execution_count": 16,
   "id": "47b8aaca-ee66-429e-ac9c-775a9df7a147",
   "metadata": {},
   "outputs": [
    {
     "name": "stdout",
     "output_type": "stream",
     "text": [
      "1\n",
      "2\n",
      "3\n",
      "4\n",
      "5\n",
      "6\n",
      "7\n",
      "8\n",
      "9\n",
      "10\n"
     ]
    }
   ],
   "source": [
    "# Generators are a simple way to create iterators\n",
    "# code to make renge() function using generators\n",
    "\n",
    "def my_range(start,end):\n",
    "    for i in range(start,end):\n",
    "        yield i\n",
    "\n",
    "for i in my_range(1,11):\n",
    "    print(i)"
   ]
  },
  {
   "cell_type": "code",
   "execution_count": null,
   "id": "009f464b-6dae-41f4-9535-58e67d6df9e5",
   "metadata": {},
   "outputs": [],
   "source": []
  },
  {
   "cell_type": "code",
   "execution_count": null,
   "id": "0384b1bc-6491-488e-9af7-0a17be8b1377",
   "metadata": {},
   "outputs": [],
   "source": []
  }
 ],
 "metadata": {
  "kernelspec": {
   "display_name": "Python 3 (ipykernel)",
   "language": "python",
   "name": "python3"
  },
  "language_info": {
   "codemirror_mode": {
    "name": "ipython",
    "version": 3
   },
   "file_extension": ".py",
   "mimetype": "text/x-python",
   "name": "python",
   "nbconvert_exporter": "python",
   "pygments_lexer": "ipython3",
   "version": "3.11.7"
  }
 },
 "nbformat": 4,
 "nbformat_minor": 5
}
