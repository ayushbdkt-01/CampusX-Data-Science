{
 "cells": [
  {
   "cell_type": "markdown",
   "id": "8990477c-a35f-4230-a7ea-d404e2d0021c",
   "metadata": {},
   "source": [
    "###### Functions"
   ]
  },
  {
   "cell_type": "code",
   "execution_count": 1,
   "id": "64ae2d23-155a-4572-b307-e7057a2912ca",
   "metadata": {},
   "outputs": [],
   "source": [
    "# function is a block of code whick performs a specific code\n",
    "# advantage is reusability\n",
    "# Principles of Function = Abstraction and Decomposition"
   ]
  },
  {
   "cell_type": "code",
   "execution_count": 4,
   "id": "6579e1cd-dcad-4dcc-8417-638bad0c0be8",
   "metadata": {},
   "outputs": [
    {
     "name": "stdout",
     "output_type": "stream",
     "text": [
      "Even\n"
     ]
    }
   ],
   "source": [
    "def checkEven(n):\n",
    "    \"\"\"takes a number as input and prints that the number is even or odd\"\"\"\n",
    "    if n%2==0: print(\"Even\")\n",
    "    else: print(odd)\n",
    "checkEven(12)"
   ]
  },
  {
   "cell_type": "code",
   "execution_count": 11,
   "id": "6ddf1679-8632-407a-9c36-0f52d05337d6",
   "metadata": {},
   "outputs": [
    {
     "name": "stdout",
     "output_type": "stream",
     "text": [
      "1024\n"
     ]
    }
   ],
   "source": [
    "# default parameters = agr values call k timep pe ayenge toh theek hai\n",
    "# wrna default vaiues ko use krr lena\n",
    "def power(a=1,b=2):\n",
    "    return a**b\n",
    "ans=power(2,10)\n",
    "print(ans)"
   ]
  },
  {
   "cell_type": "code",
   "execution_count": 13,
   "id": "047369b8-d299-4e20-a70f-bb885e6f8066",
   "metadata": {},
   "outputs": [
    {
     "data": {
      "text/plain": [
       "17179869184"
      ]
     },
     "execution_count": 13,
     "metadata": {},
     "output_type": "execute_result"
    }
   ],
   "source": [
    "# positional argument\n",
    "# power(2,34)\n",
    "# 2 a m jayega\n",
    "# 34 b m jayega \n"
   ]
  },
  {
   "cell_type": "code",
   "execution_count": 10,
   "id": "010514a2-7281-466b-83e9-a46f4f09f1ac",
   "metadata": {},
   "outputs": [
    {
     "name": "stdout",
     "output_type": "stream",
     "text": [
      "100\n"
     ]
    }
   ],
   "source": [
    "# keywords argument\n",
    "def power(a=1,b=2):\n",
    "    return a**b\n",
    "ans=power(b=2,a=10)\n",
    "print(ans)"
   ]
  },
  {
   "cell_type": "code",
   "execution_count": 17,
   "id": "dbde7215-a191-4d6d-a294-f83ec878ee83",
   "metadata": {},
   "outputs": [
    {
     "name": "stdout",
     "output_type": "stream",
     "text": [
      "(1, 2, 3, 4, 5)\n",
      "120\n",
      "Takes n number of arguments and returns the product of all of them\n",
      "Prints the values to a stream, or to sys.stdout by default.\n",
      "\n",
      "  sep\n",
      "    string inserted between values, default a space.\n",
      "  end\n",
      "    string appended after the last value, default a newline.\n",
      "  file\n",
      "    a file-like object (stream); defaults to the current sys.stdout.\n",
      "  flush\n",
      "    whether to forcibly flush the stream.\n"
     ]
    }
   ],
   "source": [
    "# *args is used to pass any number of parameters to the function\n",
    "\n",
    "def multiply(*args):\n",
    "    \"\"\"Takes n number of arguments and returns the product of all of them\"\"\"\n",
    "    print(args) # args is a tuple which contains all parameters passed into the function\n",
    "    ans=1\n",
    "    for i in args:\n",
    "        ans=ans*i\n",
    "    return ans\n",
    "    \n",
    "ans=multiply(1,2,3,4,5)\n",
    "print(ans)\n",
    "print(multiply.__doc__) # gives the ducumentation of any function\n",
    "print(print.__doc__)"
   ]
  },
  {
   "cell_type": "code",
   "execution_count": 22,
   "id": "a43de7ba-c96c-4104-b054-96e08df40f99",
   "metadata": {},
   "outputs": [
    {
     "name": "stdout",
     "output_type": "stream",
     "text": [
      "{'name': 'Ayush', 'age': 21}\n",
      "<class 'dict'>\n",
      "name --> Ayush\n",
      "age --> 21\n"
     ]
    }
   ],
   "source": [
    "# **kwargs stands for keyword arguments\n",
    "# used to pass any number of keywords arguments\n",
    "# keywords argument = key:value pairs\n",
    "\n",
    "def display(**kwargs):\n",
    "    print(kwargs)\n",
    "    print(type(kwargs))\n",
    "    for (key,value) in kwargs.items():\n",
    "        print(key,\"-->\",value)\n",
    "\n",
    "display(name=\"Ayush\",age=21)"
   ]
  },
  {
   "cell_type": "code",
   "execution_count": 23,
   "id": "be9ea035-3b49-48ae-a230-bd7997aca571",
   "metadata": {},
   "outputs": [],
   "source": [
    "# if there is no return in func(), it will return a default value as \"None\"."
   ]
  },
  {
   "cell_type": "code",
   "execution_count": 24,
   "id": "8b0693e0-db8f-43de-80b1-eb8380b0e078",
   "metadata": {},
   "outputs": [],
   "source": [
    "# local and Global variables"
   ]
  },
  {
   "cell_type": "code",
   "execution_count": 25,
   "id": "4b4e11e0-481e-4a68-bd9a-22b7c7b289cf",
   "metadata": {},
   "outputs": [],
   "source": [
    "# Nested Functions"
   ]
  },
  {
   "cell_type": "code",
   "execution_count": 28,
   "id": "5530c647-df8b-40e5-9d63-cf7cef272364",
   "metadata": {},
   "outputs": [
    {
     "name": "stdout",
     "output_type": "stream",
     "text": [
      "Inside func f()\n",
      "Inside func g()\n"
     ]
    }
   ],
   "source": [
    "def f():\n",
    "    def g():\n",
    "        print(\"Inside func g()\")\n",
    "    print(\"Inside func f()\")\n",
    "    g()\n",
    "\n",
    "f()"
   ]
  },
  {
   "cell_type": "markdown",
   "id": "d75a4a73-7f73-416e-a624-c3a21975cc09",
   "metadata": {},
   "source": [
    "# Functions are first class citizens"
   ]
  },
  {
   "cell_type": "code",
   "execution_count": 7,
   "id": "cb16b7c5-0713-48af-8c06-e545424a29c7",
   "metadata": {},
   "outputs": [
    {
     "name": "stdout",
     "output_type": "stream",
     "text": [
      "9\n",
      "<class 'function'>\n",
      "2314034489248\n"
     ]
    }
   ],
   "source": [
    "# type() and id()\n",
    "def square(n):\n",
    "    return n**2\n",
    "print(square(3))\n",
    "print(type(square))\n",
    "print(id(square))"
   ]
  },
  {
   "cell_type": "code",
   "execution_count": 5,
   "id": "6dfb6e85-0541-44a8-b21e-78b770095069",
   "metadata": {},
   "outputs": [],
   "source": [
    "# delete a function\n",
    "del square"
   ]
  },
  {
   "cell_type": "code",
   "execution_count": 8,
   "id": "7e173a2e-c552-45dc-afc3-28c4d0503b89",
   "metadata": {},
   "outputs": [
    {
     "name": "stdout",
     "output_type": "stream",
     "text": [
      "25\n"
     ]
    }
   ],
   "source": [
    "# storing a function\n",
    "l=[1,2,3,4,square]\n",
    "print(l[-1](5))"
   ]
  },
  {
   "cell_type": "code",
   "execution_count": 9,
   "id": "c42d5fe5-d5b7-44a9-ada0-303d15afcb25",
   "metadata": {},
   "outputs": [],
   "source": [
    "# returning a function\n",
    "# passing a function as argument\n"
   ]
  },
  {
   "cell_type": "markdown",
   "id": "b702f8e9-eb2e-4917-9be9-055667467fb2",
   "metadata": {},
   "source": [
    "# Benefits of function"
   ]
  },
  {
   "cell_type": "code",
   "execution_count": 10,
   "id": "2f964657-2fa2-4db4-b90c-52482449e3bf",
   "metadata": {},
   "outputs": [],
   "source": [
    "# Code modularity\n",
    "# code reusability\n",
    "# code reusability"
   ]
  },
  {
   "cell_type": "markdown",
   "id": "09c14c42-657a-49b1-9cb1-3d64c9d8380e",
   "metadata": {},
   "source": [
    "# Lambda Function"
   ]
  },
  {
   "cell_type": "code",
   "execution_count": 11,
   "id": "872b8d64-22d4-4131-829b-a28255232a36",
   "metadata": {},
   "outputs": [],
   "source": [
    "# it is a small anonymus function\n",
    "# takes any number of arguments but have only one expression."
   ]
  },
  {
   "cell_type": "code",
   "execution_count": 12,
   "id": "b0938b04-2bf3-4627-aced-578c9147c8f6",
   "metadata": {},
   "outputs": [
    {
     "data": {
      "text/plain": [
       "<function __main__.<lambda>(a, b)>"
      ]
     },
     "execution_count": 12,
     "metadata": {},
     "output_type": "execute_result"
    }
   ],
   "source": [
    "# SYNTAX =\n",
    "lambda a,b: a+b\n",
    "# lambda is keyword\n",
    "# a,b are arguments\n",
    "# a+b is the return type."
   ]
  },
  {
   "cell_type": "code",
   "execution_count": 16,
   "id": "3883e25c-64d6-49a3-b745-a10f31c4109a",
   "metadata": {},
   "outputs": [
    {
     "name": "stdout",
     "output_type": "stream",
     "text": [
      "25\n",
      "11\n"
     ]
    }
   ],
   "source": [
    "ans=lambda x:x**2\n",
    "print(ans(5))\n",
    "\n",
    "ans=lambda x,y:x+y\n",
    "print(ans(5,6))"
   ]
  },
  {
   "cell_type": "markdown",
   "id": "51cba70d-61f2-40e2-be8d-7fb85b59b9c3",
   "metadata": {},
   "source": [
    "# Diff. bw normal and lambda function"
   ]
  },
  {
   "cell_type": "code",
   "execution_count": 18,
   "id": "cc097799-7932-45ef-83c2-8ed7bb5dcf1e",
   "metadata": {},
   "outputs": [],
   "source": [
    "# lambda function has no name\n",
    "# lambda func. doesn't return anything\n",
    "# only one line\n",
    "# not reusable\n",
    "# use of lambda function: used with higher order function (HOF)"
   ]
  },
  {
   "cell_type": "code",
   "execution_count": 22,
   "id": "3b687984-a77e-4437-ba91-32053b79bc5f",
   "metadata": {},
   "outputs": [
    {
     "name": "stdout",
     "output_type": "stream",
     "text": [
      "even\n",
      "True\n"
     ]
    }
   ],
   "source": [
    "ans=lambda x:\"even\" if x%2==0 else \"odd\"\n",
    "print(ans(34))\n",
    "\n",
    "ans=lambda x:'a' in x\n",
    "print(ans(\"Aayush\"))"
   ]
  },
  {
   "cell_type": "code",
   "execution_count": 24,
   "id": "093ae498-362a-4a79-bf10-e4763fc3d9b3",
   "metadata": {},
   "outputs": [],
   "source": [
    "# Higher Order Function are functions which returns a function or takes a function as input"
   ]
  },
  {
   "cell_type": "markdown",
   "id": "33a613f4-34b4-4c0a-a668-b95aff7ed2e8",
   "metadata": {},
   "source": [
    "# Map()"
   ]
  },
  {
   "cell_type": "code",
   "execution_count": 3,
   "id": "4dfb8178-6876-4e8d-9973-1b47cc77ab04",
   "metadata": {},
   "outputs": [
    {
     "data": {
      "text/plain": [
       "[1, 4, 9, 16, 25]"
      ]
     },
     "execution_count": 3,
     "metadata": {},
     "output_type": "execute_result"
    }
   ],
   "source": [
    "# used to perform some operation on lists\n",
    "list(map(lambda x:x**2,[1,2,3,4,5]))"
   ]
  },
  {
   "cell_type": "code",
   "execution_count": 5,
   "id": "0ac60898-3341-4123-88ad-24897b353d81",
   "metadata": {},
   "outputs": [
    {
     "data": {
      "text/plain": [
       "['odd', 'even', 'odd', 'even', 'odd', 'even']"
      ]
     },
     "execution_count": 5,
     "metadata": {},
     "output_type": "execute_result"
    }
   ],
   "source": [
    "# patition list as odd and even\n",
    "list(map(lambda x:\"even\" if x%2==0 else \"odd\",[1,2,3,4,5,6]))"
   ]
  },
  {
   "cell_type": "markdown",
   "id": "8b1ab318-96b7-422e-bf41-b3ffd1f1f3e1",
   "metadata": {},
   "source": [
    "# Filter()"
   ]
  },
  {
   "cell_type": "code",
   "execution_count": 9,
   "id": "7b96dce1-25dc-4546-8721-b68d56cf3b4d",
   "metadata": {},
   "outputs": [
    {
     "data": {
      "text/plain": [
       "['Ayush', 'Anskit']"
      ]
     },
     "execution_count": 9,
     "metadata": {},
     "output_type": "execute_result"
    }
   ],
   "source": [
    "# it is a higher order function which filters list based on some comdition\n",
    "l=[3,4,5,6,7]\n",
    "list(filter(lambda x:x>5,l))\n",
    "\n",
    "list(filter(lambda x:x.startswith('A'),[\"Ayush\",\"Maksood\",\"Joshi\",\"Anskit\"]))"
   ]
  },
  {
   "cell_type": "markdown",
   "id": "13b2a362-ff55-4279-b6a6-dd73717993f8",
   "metadata": {},
   "source": [
    "# Reduce()"
   ]
  },
  {
   "cell_type": "code",
   "execution_count": 13,
   "id": "d8f010a8-2d36-4f9d-99c9-da263e457484",
   "metadata": {},
   "outputs": [
    {
     "data": {
      "text/plain": [
       "1"
      ]
     },
     "execution_count": 13,
     "metadata": {},
     "output_type": "execute_result"
    }
   ],
   "source": [
    "# inside the library functools\n",
    "import functools\n",
    "functools.reduce(lambda x,y:x+y,[1,2,3,4,5])\n",
    "\n",
    "# minimum element from list\n",
    "functools.reduce(lambda x,y:x if x<y else y,[1,2,3,4,5])"
   ]
  },
  {
   "cell_type": "markdown",
   "id": "48eaa339-571a-45a3-9ee2-d47798f85cac",
   "metadata": {},
   "source": [
    "# Python OOPS"
   ]
  },
  {
   "cell_type": "code",
   "execution_count": 14,
   "id": "46e95700-e6ec-4057-9477-f3aa524b0122",
   "metadata": {},
   "outputs": [],
   "source": [
    "# using oops, we can create our own data type"
   ]
  },
  {
   "cell_type": "code",
   "execution_count": 16,
   "id": "866143a4-4bb0-44e7-96a2-5b8fb84c6de6",
   "metadata": {},
   "outputs": [],
   "source": [
    "# class is a blueprint to create objects\n",
    "# classes has data (property) and functions (behavior)\n",
    "# object is an instance of car"
   ]
  },
  {
   "cell_type": "code",
   "execution_count": 18,
   "id": "0dcd390e-498e-4cfd-aee1-34d82f9e170a",
   "metadata": {},
   "outputs": [],
   "source": [
    "# syntax to create object\n",
    "object_name = class_name()"
   ]
  },
  {
   "cell_type": "code",
   "execution_count": 22,
   "id": "f088b726-875b-4c2a-8f24-2ec956e4b821",
   "metadata": {},
   "outputs": [],
   "source": [
    "# 2 Types of Classes: built in (lists,tuples....)\n",
    "# user defined = those what we are creating"
   ]
  },
  {
   "cell_type": "code",
   "execution_count": 1,
   "id": "e4ba3d5b-8a51-488f-9236-fdddb00d9b00",
   "metadata": {},
   "outputs": [
    {
     "name": "stdout",
     "output_type": "stream",
     "text": [
      "i'm a constructor\n",
      "\n",
      "<class '__main__.atm'>\n"
     ]
    },
    {
     "name": "stdin",
     "output_type": "stream",
     "text": [
      "Enter Input, Enter 1 for pin creation, Enter 2 for pin change  1\n"
     ]
    }
   ],
   "source": [
    "class atm:\n",
    "    def __init__(self): # constructor (used to write configuration codes for a program)\n",
    "        self.pin=\"\"\n",
    "        self.balance=0\n",
    "        print(\"i'm a constructor\")\n",
    "    def menu(self):\n",
    "        user_input=input(\"Enter Input, Enter 1 for pin creation, Enter 2 for pin change \")\n",
    "        if user_input==1: self.createPin()\n",
    "    def createPin(self):\n",
    "        userPin=input(\"Enter pin\")\n",
    "        pin=userPin\n",
    "        userBal=input(\"Enter balance\")\n",
    "        pin=userBal\n",
    "        print(\"Pin Created Successfully\")\n",
    "    def pinChange(self):\n",
    "        userPin=int(input(\"Enter current pin: \"))\n",
    "        if(userPin==self.pin):\n",
    "            newPin=int(input(\"Enter new pin: \"))\n",
    "            self.pin=newPin\n",
    "        else:\n",
    "            print(\"Wrong current pin\")\n",
    "    def checkBal(self):\n",
    "        print(self.balance)\n",
    "    def withdrawl(self):\n",
    "        amount=int(input(\"Enter amount to withdraw: \"))\n",
    "        if(amount<=self.balance):\n",
    "            print(\"withdrawl successfull\")\n",
    "            self.balance=self.balance-amount\n",
    "        else:\n",
    "            print(\"abe gareeb\")\n",
    "        \n",
    "\n",
    "\n",
    "obj1= atm()\n",
    "print(obj1.pin)\n",
    "print(type(obj1))\n",
    "obj1.menu()"
   ]
  },
  {
   "cell_type": "markdown",
   "id": "1336f941-1a1e-4100-887f-d90b209b18a4",
   "metadata": {},
   "source": [
    "# Methods vs Function"
   ]
  },
  {
   "cell_type": "code",
   "execution_count": 2,
   "id": "864d669c-1af9-4c4e-85aa-7a0e4c21aeca",
   "metadata": {},
   "outputs": [],
   "source": [
    "# functions inside class are called methods\n",
    "# any other independent function is called as function\n",
    "\n",
    "# len(l) iss a function\n",
    "# l.append(3) is a method because it is a function of class list\n"
   ]
  },
  {
   "cell_type": "markdown",
   "id": "89433964-6555-41a6-8415-3814016ea718",
   "metadata": {},
   "source": [
    "# Magic Methods (Dunder Methods)"
   ]
  },
  {
   "cell_type": "code",
   "execution_count": 3,
   "id": "48e0ad58-325c-49de-9036-f220e6ec9415",
   "metadata": {},
   "outputs": [],
   "source": [
    "# special methods which have superpowers\n",
    "# syntax: __methodName__\n",
    "# not needed to call magic methods"
   ]
  },
  {
   "cell_type": "code",
   "execution_count": 4,
   "id": "d2aa8889-1dcc-4599-b557-a32009a12a2c",
   "metadata": {},
   "outputs": [],
   "source": [
    "# \"self\" is a pointer refrencing to the current object"
   ]
  },
  {
   "cell_type": "markdown",
   "id": "d369c434-d10c-4220-b926-a77a7639e57a",
   "metadata": {},
   "source": [
    "# Creating our own dataType"
   ]
  },
  {
   "cell_type": "code",
   "execution_count": 8,
   "id": "7d28e8b2-766d-4e99-8ac4-d40b9e1509e3",
   "metadata": {},
   "outputs": [
    {
     "name": "stdout",
     "output_type": "stream",
     "text": [
      "<class '__main__.Fraction'>\n",
      "12/2\n",
      "104/10\n",
      "16/10\n",
      "264/10\n",
      "60/10\n"
     ]
    }
   ],
   "source": [
    "class Fraction:\n",
    "    def __init__(self,x,y): # parameterized constructor\n",
    "        self.num=x\n",
    "        self.den=y\n",
    "    def __str__(self): # magic method to print the function\n",
    "        return \"{}/{}\".format(self.num,self.den)\n",
    "    def __add__(self,other):\n",
    "        newNum=self.num*other.den+self.den*other.num\n",
    "        newDen=self.den*other.den\n",
    "        return \"{}/{}\".format(newNum,newDen)\n",
    "    def __sub__(self,other):\n",
    "        newNum=self.num*other.den-self.den*other.num\n",
    "        newDen=self.den*other.den\n",
    "        return \"{}/{}\".format(newNum,newDen)\n",
    "    def __mul__(self,other):\n",
    "        newNum=self.num*other.num\n",
    "        newDen=self.den*other.den\n",
    "        return \"{}/{}\".format(newNum,newDen)\n",
    "    def __truediv__(self,other):\n",
    "        newNum=self.num*other.den\n",
    "        newDen=self.den*other.den\n",
    "        return \"{}/{}\".format(newNum,newDen)\n",
    "        \n",
    "\n",
    "\n",
    "fr1=Fraction(12,2)\n",
    "fr2=Fraction(22,5)\n",
    "\n",
    "print(type(fr1))\n",
    "print(fr1)\n",
    "print(fr1+fr2)\n",
    "print(fr1-fr2)\n",
    "print(fr1*fr2)\n",
    "print(fr1/fr2)"
   ]
  },
  {
   "cell_type": "code",
   "execution_count": null,
   "id": "89b23727-24b8-4a38-889a-a50db8c9d011",
   "metadata": {},
   "outputs": [],
   "source": [
    " "
   ]
  }
 ],
 "metadata": {
  "kernelspec": {
   "display_name": "Python 3 (ipykernel)",
   "language": "python",
   "name": "python3"
  },
  "language_info": {
   "codemirror_mode": {
    "name": "ipython",
    "version": 3
   },
   "file_extension": ".py",
   "mimetype": "text/x-python",
   "name": "python",
   "nbconvert_exporter": "python",
   "pygments_lexer": "ipython3",
   "version": "3.11.7"
  }
 },
 "nbformat": 4,
 "nbformat_minor": 5
}
